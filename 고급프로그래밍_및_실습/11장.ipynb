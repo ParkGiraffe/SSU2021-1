{
  "nbformat": 4,
  "nbformat_minor": 0,
  "metadata": {
    "colab": {
      "name": "11강",
      "provenance": [],
      "collapsed_sections": []
    },
    "kernelspec": {
      "name": "python3",
      "display_name": "Python 3"
    },
    "language_info": {
      "name": "python"
    }
  },
  "cells": [
    {
      "cell_type": "markdown",
      "metadata": {
        "id": "-zEBi97yyDQP"
      },
      "source": [
        "[ 문제 1 ] ---------------------------------------------------------------------\n",
        "\n",
        "\"mon\", \"tue\", \"wed\", \"thu\", \"fri\", \"sat\", \"sun\"로 구성된 리스트 days를\n",
        "map() 함수와 람다식만 사용하여 대문자로 변환된 리스트를 생성하시오.\n",
        "\n",
        "**출력예시:**\n",
        "\n",
        "\n",
        "```\n",
        "['MON', 'TUE', 'WED', 'THE', 'FRI', 'SAT', 'SUN']\n",
        "```\n",
        "\n"
      ]
    },
    {
      "cell_type": "code",
      "metadata": {
        "id": "gYWKMkA0yDAx",
        "colab": {
          "base_uri": "https://localhost:8080/"
        },
        "outputId": "bed16d24-f457-42c5-db39-48c3c061a6f9"
      },
      "source": [
        "\n",
        "days = [\"mon\", \"tue\", \"wed\", \"thu\", \"fri\", \"sat\", \"sun\"]\n",
        "\n",
        "result = list(map(lambda n : n.upper(), days))\n",
        "\n",
        "print(result)\n",
        "\n"
      ],
      "execution_count": 4,
      "outputs": [
        {
          "output_type": "stream",
          "text": [
            "['MON', 'TUE', 'WED', 'THU', 'FRI', 'SAT', 'SUN']\n"
          ],
          "name": "stdout"
        }
      ]
    },
    {
      "cell_type": "markdown",
      "metadata": {
        "id": "YOoOs6nTriEZ"
      },
      "source": [
        "[ 문제 2 ] ---------------------------------------------------------------------\n",
        "\n",
        "\"mon\", \"tue\", \"wed\", \"thu\", \"fri\", \"sat\", \"sun\"로 구성된 리스트 days를\n",
        "map() 함수와 람다식만 사용하여 첫 글자만 대문자로 변환된 리스트를 생성하시오.\n",
        "\n",
        "\n",
        "**출력예시:**\n",
        "\n",
        "\n",
        "```\n",
        "['Mon', 'Tue', 'Wed', 'Thu', 'Fri', 'Sat', 'Sun']\n",
        "```\n",
        "\n",
        "(Hint: 람다식안에 슬라이싱과 병합을 활용할 수 있다.)\n"
      ]
    },
    {
      "cell_type": "code",
      "metadata": {
        "colab": {
          "base_uri": "https://localhost:8080/"
        },
        "id": "zqCQPwQCrfOd",
        "outputId": "b52f480f-4042-4ed4-f06b-21f39cb9721b"
      },
      "source": [
        "days = [\"mon\", \"tue\", \"wed\", \"thu\", \"fri\", \"sat\", \"sun\"]\n",
        "\n",
        "\n",
        "result = list(map(lambda n : n[0].upper()+n[1]+n[2], days))\n",
        "\n",
        "print(result)\n",
        "\n",
        "\n"
      ],
      "execution_count": 6,
      "outputs": [
        {
          "output_type": "stream",
          "text": [
            "['Mon', 'Tue', 'Wed', 'Thu', 'Fri', 'Sat', 'Sun']\n"
          ],
          "name": "stdout"
        }
      ]
    },
    {
      "cell_type": "markdown",
      "metadata": {
        "id": "PUXehMGyyryb"
      },
      "source": [
        "[ 문제 3 ] ---------------------------------------------------------------------\n",
        "\n",
        "2부터 100까지 숫자로 된 리스트 nums로 부터 filter() 함수를 이용하여 소수만 뽑아내는 코드를 작성하시오.\n",
        "\n",
        "출력예시:\n",
        "\n",
        "\n",
        "```\n",
        "[2, 3, 5, 7, 11, 13, 17, 19, 23, 29, 31, 37, 41, 43, 47, 53, 59, 61, 67, 71, 73, 79, 83, 89, 97]\n",
        "```\n",
        "\n"
      ]
    },
    {
      "cell_type": "code",
      "metadata": {
        "colab": {
          "base_uri": "https://localhost:8080/"
        },
        "id": "yWQ2vGJadfjC",
        "outputId": "0af3d950-5727-4443-860e-a6473c8a1ada"
      },
      "source": [
        "def f(x):\n",
        "    for i in range (2,x-1):\n",
        "      if x % i == 0 :  \n",
        "        return False\n",
        "    return True\n",
        "\n",
        "nums = list(range(2, 101))\n",
        "\n",
        "result = filter(f, nums)\n",
        "print(list(result))\n",
        "\n"
      ],
      "execution_count": 19,
      "outputs": [
        {
          "output_type": "stream",
          "text": [
            "[2, 3, 5, 7, 11, 13, 17, 19, 23, 29, 31, 37, 41, 43, 47, 53, 59, 61, 67, 71, 73, 79, 83, 89, 97]\n"
          ],
          "name": "stdout"
        }
      ]
    },
    {
      "cell_type": "markdown",
      "metadata": {
        "id": "kUYbPq6X0FBt"
      },
      "source": [
        "[ 문제 4 ] ---------------------------------------------------------------------\n",
        "\n",
        "이름과 수학성적, 영어성적을 나타내는 세 개의 리스트 names, math_scores, eng_scores를 zip() 함수를 이용해 하나의 students 리스트로 만들고,\n",
        "sorted와 람다식을 활용해 평균 성적이 오름차순으로 정렬된 결과를 출력하시오. \n",
        "\n",
        "출력예시:\n",
        "\n",
        "\n",
        "```\n",
        "[('이정진', 20052876, 30, 60), ('최종헌', 20152015, 99, 25), ('신사임당', 20103500, 59, 100), ('홍길동', 20014876, 80, 80)]\n",
        "```\n",
        "\n",
        "\n",
        "\n"
      ]
    },
    {
      "cell_type": "code",
      "metadata": {
        "colab": {
          "base_uri": "https://localhost:8080/"
        },
        "id": "Zjjs0Kth0EZL",
        "outputId": "a21c1e8e-e3f1-4c10-873d-ff99e850cdd6"
      },
      "source": [
        "names = [\"이정진\", \"최종헌\", \"홍길동\", \"신사임당\"]\n",
        "math_scores = [30, 99, 80, 59]\n",
        "eng_scores = [60, 25, 80, 100]\n",
        "\n",
        "students = list(zip(names, math_scores, eng_scores))\n",
        "print(sorted(students, key=lambda x: x[1]+x[2]))\n",
        "\n",
        "\n",
        "\n"
      ],
      "execution_count": 27,
      "outputs": [
        {
          "output_type": "stream",
          "text": [
            "[('이정진', 30, 60), ('최종헌', 99, 25), ('신사임당', 59, 100), ('홍길동', 80, 80)]\n"
          ],
          "name": "stdout"
        }
      ]
    },
    {
      "cell_type": "markdown",
      "metadata": {
        "id": "GrN6AsBb24B_"
      },
      "source": [
        "[ 문제 5 ] ---------------------------------------------------------------------\n",
        "\n",
        "\"for문\", \"map()+람다식\", \"map()+함수\"의 성능을 비교해보자.\n",
        "\n",
        "2천만개의 숫자로 구성된 리스트 nums의 각 요소들을 제곱하는 명령문을\n",
        " \n",
        "\n",
        "1.   for문을 활용하여 구현\n",
        "2.   map()와 람다식을 활용하여 구현\n",
        "3.   map()와 함수를 활용하여 구현\n",
        "\n",
        "세 가지 형태로 구현해보고 time 모듈을 활용해 각각 걸린 시간을 출력해보자.\n",
        "\n",
        "출력예시:*italicized text*\n",
        "\n",
        "\n",
        "```\n",
        "for문 연산 속도:  7.860635280609131\n",
        "map+람다식 연산 속도:  6.659299373626709\n",
        "map+함수 연산 속도:  6.753660440444946\n",
        "```\n",
        "\n"
      ]
    },
    {
      "cell_type": "code",
      "metadata": {
        "colab": {
          "base_uri": "https://localhost:8080/"
        },
        "id": "Vsvz8qt723ub",
        "outputId": "cafbf812-09e2-4ac9-800b-bdefb5c3f1a1"
      },
      "source": [
        "import time\n",
        "\n",
        "def mult(x) :\n",
        "  return x*x\n",
        "\n",
        "\n",
        "nums_one = list(range(20000000))\n",
        "\n",
        "start_one = time.time()\n",
        "one = []\n",
        "for i in nums_one :\n",
        "  one.append(i*i)\n",
        "end_one = time.time()\n",
        "print(end_one-start_one)\n",
        "\n",
        "nums_two = list(range(20000000))\n",
        "\n",
        "start_two = time.time()\n",
        "two = list(map(lambda x:x*x, nums_two))\n",
        "end_two = time.time()\n",
        "print(end_two-start_two)\n",
        "\n",
        "nums_three = list(range(20000000))\n",
        "\n",
        "start_three = time.time()\n",
        "three = list(map(mult, nums_three))\n",
        "end_three = time.time()\n",
        "print(end_three-start_three)\n",
        "\n",
        "\n"
      ],
      "execution_count": 42,
      "outputs": [
        {
          "output_type": "stream",
          "text": [
            "4.840660095214844\n",
            "2.591324806213379\n",
            "2.508965253829956\n"
          ],
          "name": "stdout"
        }
      ]
    },
    {
      "cell_type": "markdown",
      "metadata": {
        "id": "b7qlmlm79aZw"
      },
      "source": [
        "[ 문제 6 ] ---------------------------------------------------------------------\n",
        "\n",
        "range()함수와 유사한 이터레이터 클래스 myRange를 작성해보자.\n",
        "\n",
        "클래스 low, high, step, mulplier 4개의 인자로 초기화된다. 각각 인자에 대한 설명은 다음과 같다.\n",
        "*  low: 시작 정수\n",
        "*  high: 종료 조건 정수 \n",
        "*  step: 반복할 때 마다 증가하는 양\n",
        "*  multiplier: 반환되는 수에 곱해지는 정수\n",
        "\n",
        "출력예시: \n",
        "```\n",
        "3 9 15 21 27 \n",
        "```\n",
        "\n",
        "(Hint: 강의자료 39p 예제 참고)"
      ]
    },
    {
      "cell_type": "code",
      "metadata": {
        "colab": {
          "base_uri": "https://localhost:8080/"
        },
        "id": "Q31P0_qh9aCE",
        "outputId": "cc21c9a2-9d60-4078-9ede-1d53ae68b899"
      },
      "source": [
        "class myRange:\n",
        "  def __init__(self,low, high, step, multiplier) :\n",
        "    self.current = low\n",
        "    self.high = high\n",
        "    self.step = step\n",
        "    self.mult = multiplier\n",
        "  \n",
        "  def __iter__ (self):\n",
        "    return self\n",
        "\n",
        "  def __next__ (self) :\n",
        "    if self.current > self.high :\n",
        "      raise StopIteration\n",
        "    else :\n",
        "      self.current += self.step\n",
        "      return (self.current - self.step) * self.mult\n",
        "\n",
        "for i in myRange(1, 10, 2, 3):\n",
        "   print(i, end=\" \")"
      ],
      "execution_count": 38,
      "outputs": [
        {
          "output_type": "stream",
          "text": [
            "3 9 15 21 27 "
          ],
          "name": "stdout"
        }
      ]
    }
  ]
}