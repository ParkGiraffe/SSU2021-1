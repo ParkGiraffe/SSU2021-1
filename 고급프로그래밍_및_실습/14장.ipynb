{
  "nbformat": 4,
  "nbformat_minor": 0,
  "metadata": {
    "colab": {
      "name": "14장.ipynb",
      "provenance": [],
      "collapsed_sections": []
    },
    "kernelspec": {
      "name": "python3",
      "display_name": "Python 3"
    },
    "language_info": {
      "name": "python"
    }
  },
  "cells": [
    {
      "cell_type": "code",
      "metadata": {
        "id": "JtVV12ZDdm2S"
      },
      "source": [
        "import numpy as np\n",
        "import matplotlib.pyplot as plt"
      ],
      "execution_count": null,
      "outputs": []
    },
    {
      "cell_type": "code",
      "metadata": {
        "colab": {
          "base_uri": "https://localhost:8080/"
        },
        "id": "bJ1WaHKNZYZd",
        "outputId": "11f63f21-d993-4fd5-d7d0-a84a23a48538"
      },
      "source": [
        "#1번 0부터 29까지의 숫자를 담은 5X6의 2차원배열에서 짝수 열 (0,2,4..) 열만 뽑아서 새로운 array를 만드시오\n",
        "#아래의 출력예시가 나와야합니다. \n",
        "\n",
        "a = np.arange(0,30,1)\n",
        "A = a.reshape(5,6)\n",
        "\n",
        "print(A)\n",
        "\n",
        "b = A[A%2 == 0]\n",
        "B = b.reshape(-1,3)\n",
        "\n",
        "print(B)\n"
      ],
      "execution_count": null,
      "outputs": [
        {
          "output_type": "stream",
          "text": [
            "[[ 0  1  2  3  4  5]\n",
            " [ 6  7  8  9 10 11]\n",
            " [12 13 14 15 16 17]\n",
            " [18 19 20 21 22 23]\n",
            " [24 25 26 27 28 29]]\n",
            "[[ 0  2  4]\n",
            " [ 6  8 10]\n",
            " [12 14 16]\n",
            " [18 20 22]\n",
            " [24 26 28]]\n"
          ],
          "name": "stdout"
        }
      ]
    },
    {
      "cell_type": "code",
      "metadata": {
        "colab": {
          "base_uri": "https://localhost:8080/",
          "height": 280
        },
        "id": "QF-2Ymp7apvF",
        "outputId": "25d76c48-0c10-45e1-bd07-80c662eced55"
      },
      "source": [
        "#2번 삼차함수 (x-2)*x*(x+2)의 함수 그래프를 그려라.\n",
        "#조건: 정의역은 닫힌구간[-3,3]이며 100분할(-3부터 3까지 100개의 숫자로 나누어져) 해야한다.\n",
        "#조건: 아래의 그림이 나와야한다. \n",
        "#조건: x의 label은 x_value, y의 label은 y_value라고 나와야한다.\n",
        "\n",
        "x = np.linspace(-3, 3, 100)     \n",
        "y = (x-2)*x*(x+2)\n",
        "\n",
        "plt.plot(x,y)\n",
        "plt.xlabel('x_value')\n",
        "plt.ylabel('y_value')\n",
        "plt.show()"
      ],
      "execution_count": null,
      "outputs": [
        {
          "output_type": "display_data",
          "data": {
            "image/png": "[encoded data removed]",
            "text/plain": [
              "<Figure size 432x288 with 1 Axes>"
            ]
          },
          "metadata": {
            "tags": [],
            "needs_background": "light"
          }
        }
      ]
    },
    {
      "cell_type": "code",
      "metadata": {
        "colab": {
          "base_uri": "https://localhost:8080/"
        },
        "id": "JTLP6Pb6ap2S",
        "outputId": "c8b1d860-0130-48b6-a85f-e567782f1881"
      },
      "source": [
        "#3번\n",
        "#1부터 30까지 숫자로 5X6의 2차원배열을 만든 뒤(함수를 사용해서 만들기), 각 숫자에 0과1 사이의 random값을 곱한 결과(내적)를 출력하시오\n",
        "\n",
        "\n",
        "a = np.arange(0,30,1).reshape(5,6)\n",
        "print(a)\n",
        "\n",
        "b = np.random.rand(5*6).reshape(5,6)\n",
        "print(b)\n",
        "\n",
        "print(a*b)\n",
        "\n"
      ],
      "execution_count": null,
      "outputs": [
        {
          "output_type": "stream",
          "text": [
            "[[ 0  1  2  3  4  5]\n",
            " [ 6  7  8  9 10 11]\n",
            " [12 13 14 15 16 17]\n",
            " [18 19 20 21 22 23]\n",
            " [24 25 26 27 28 29]]\n",
            "[[0.84920904 0.12843023 0.75193857 0.90824105 0.92035957 0.13174715]\n",
            " [0.85923754 0.32512654 0.96829175 0.44595441 0.13177848 0.42861291]\n",
            " [0.10090293 0.62886077 0.24213299 0.38450786 0.97825384 0.90489579]\n",
            " [0.06173748 0.24628367 0.13542623 0.88281487 0.53639665 0.03564343]\n",
            " [0.68457231 0.78720794 0.88948159 0.874444   0.40286237 0.01787857]]\n",
            "[[ 0.          0.12843023  1.50387714  2.72472314  3.68143829  0.65873577]\n",
            " [ 5.15542523  2.27588579  7.74633397  4.01358973  1.31778478  4.71474206]\n",
            " [ 1.21083517  8.17518998  3.38986185  5.76761791 15.65206136 15.38322843]\n",
            " [ 1.1112747   4.67938972  2.70852451 18.53911217 11.80072626  0.81979881]\n",
            " [16.42973533 19.68019842 23.12652134 23.60998793 11.28014627  0.51847844]]\n"
          ],
          "name": "stdout"
        }
      ]
    },
    {
      "cell_type": "code",
      "metadata": {
        "id": "9njB_DZWap4u",
        "colab": {
          "base_uri": "https://localhost:8080/",
          "height": 905
        },
        "outputId": "f77c45b6-93b3-4338-b369-2d7ec21050a7"
      },
      "source": [
        "# 4번 다음 자료를 보고 다음의 문제를 해결하세요.\n",
        "import numpy as np\n",
        "import matplotlib.pyplot as plt\n",
        "name=[\"jong\",\"you\",\"go\",\"mi\",\"park\",\"kang\",\"gil\",\"mee\"]\n",
        "age=[22,23,25,55,33,11,24,51]\n",
        "a = np.arange(0,30,1)\n",
        "A = a.reshape(5,6)\n",
        "grade=[3,1,2,4,1,3,2,4]\n",
        "height=[1.83,1.68,1.66,1.67,1.88,1.82,1.68,1.77]\n",
        "weight=[75,48,49,53,91,89,66,69]\n",
        "# -1번: bmi를 계산한 배열을 만드세요.\n",
        "# -2번: bmi를 꺾은선 그래프로 표현하시오\n",
        "# -3번: name을 x로 age를 y로 막대그래프를 만드세요.\n",
        "# -4번: 꼰대 수치 = age*grade,  x를 name y를 꼰대수치로 해서 꺾은선그래프로 만드세요.\n",
        "\n",
        "np_weight = np.array(weight)\n",
        "np_height = np.array(height)\n",
        "np_age = np.array(age)\n",
        "np_grade = np.array(grade)\n",
        "np_name = np.array(name)\n",
        "\n",
        "print('1번')\n",
        "\n",
        "bmi = np_weight/(np_height**2)\n",
        "print(bmi)\n",
        "\n",
        "print('2번')\n",
        "plt.plot(np_name, bmi)\n",
        "plt.xlabel('name')\n",
        "plt.ylabel('bmi')\n",
        "plt.show()\n",
        "\n",
        "print('3번')\n",
        "plt.bar(np_name, np_age)\n",
        "plt.xlabel('name')\n",
        "plt.ylabel('age')\n",
        "plt.show()\n",
        "\n",
        "print('4번')\n",
        "ggon = np_age*np_grade\n",
        "plt.plot(name, ggon)\n",
        "plt.xlabel('name')\n",
        "plt.ylabel('ggon')\n",
        "plt.show()"
      ],
      "execution_count": null,
      "outputs": [
        {
          "output_type": "stream",
          "text": [
            "1번\n",
            "[22.39541342 17.00680272 17.78197126 19.00390835 25.74694432 26.86873566\n",
            " 23.38435374 22.02432251]\n",
            "2번\n"
          ],
          "name": "stdout"
        },
        {
          "output_type": "display_data",
          "data": {
            "image/png": "[encoded data removed]",
            "text/plain": [
              "<Figure size 432x288 with 1 Axes>"
            ]
          },
          "metadata": {
            "tags": [],
            "needs_background": "light"
          }
        },
        {
          "output_type": "stream",
          "text": [
            "3번\n"
          ],
          "name": "stdout"
        },
        {
          "output_type": "display_data",
          "data": {
            "image/png": "[encoded data removed]",
            "text/plain": [
              "<Figure size 432x288 with 1 Axes>"
            ]
          },
          "metadata": {
            "tags": [],
            "needs_background": "light"
          }
        },
        {
          "output_type": "stream",
          "text": [
            "4번\n"
          ],
          "name": "stdout"
        },
        {
          "output_type": "display_data",
          "data": {
            "image/png": "[encoded data removed]",
            "text/plain": [
              "<Figure size 432x288 with 1 Axes>"
            ]
          },
          "metadata": {
            "tags": [],
            "needs_background": "light"
          }
        }
      ]
    },
    {
      "cell_type": "code",
      "metadata": {
        "id": "hcj8Vh_B-_zo",
        "colab": {
          "base_uri": "https://localhost:8080/"
        },
        "outputId": "dc5dddb4-e1ee-4a7d-b37c-bfad01d36f40"
      },
      "source": [
        "#5번\n",
        "import numpy as np\n",
        "A = np.array( [[1,2], [3,4]])\n",
        "C = np.array([[10,5],[5,1]])\n",
        "# -1번 C=A*B일때 B를 구해라 #행렬곱의 정의를 설명하기! -A * c = -A * A * B = B (-A: A의 역행렬)\n",
        "# -2번 B*A의 총합과 A*B의 요소의 총합을 비교하여 더 큰것을 출력하는 함수를 작성하라.  (매개변수는 A와 B행렬 두개)\n",
        "# -3번 B*A의 행렬을 전치했을때 각 행의 평균값을 담은 배열을 반환하는 코드를 작성해라.\n",
        "# -4번 B*A의 행렬을 전치했을 때 각 열의 평균값을 담은 배열을 반환하는 코드를 작성해라.\n",
        "\n",
        "\n",
        "def def1(a,b) :\n",
        "  x = np.sum(a)\n",
        "  y = np.sum(b) \n",
        "  # print(x)\n",
        "  # print(y)\n",
        "  if x > y :\n",
        "    print(x)\n",
        "  elif y > x :\n",
        "    print(y)\n",
        "  else :\n",
        "    print('같은 행렬')\n",
        "\n",
        "print('A의 역행렬')\n",
        "Ai = np.linalg.inv(A)\n",
        "print(Ai)\n",
        "\n",
        "print('1번')\n",
        "B =  np.dot(Ai, C)\n",
        "Bx = np.dot(C, Ai)\n",
        "print(B)\n",
        "print(Bx)\n",
        "\n",
        "print('2번')\n",
        "BA = np.dot(B,A)\n",
        "AB = np.dot(A,B)\n",
        "print(BA)\n",
        "print(AB)\n",
        "def1(BA, AB)\n",
        "\n",
        "print('3번')\n",
        "BA_1 = BA.transpose()\n",
        "print(BA_1)\n",
        "BA_2 = BA_1.mean(axis=1)\n",
        "print(BA_2)\n",
        "\n",
        "print('4번')\n",
        "BA_3 = BA_1.mean(axis=0)\n",
        "print(BA_3)\n",
        "\n",
        "\n",
        "\n",
        "\n",
        "\n",
        "\n"
      ],
      "execution_count": null,
      "outputs": [
        {
          "output_type": "stream",
          "text": [
            "A의 역행렬\n",
            "[[-2.   1. ]\n",
            " [ 1.5 -0.5]]\n",
            "1번\n",
            "[[-15.   -9. ]\n",
            " [ 12.5   7. ]]\n",
            "[[-12.5   7.5]\n",
            " [ -8.5   4.5]]\n",
            "2번\n",
            "[[-42.  -66. ]\n",
            " [ 33.5  53. ]]\n",
            "[[10.  5.]\n",
            " [ 5.  1.]]\n",
            "21.000000000000004\n",
            "3번\n",
            "[[-42.   33.5]\n",
            " [-66.   53. ]]\n",
            "[-4.25 -6.5 ]\n",
            "4번\n",
            "[-54.    43.25]\n"
          ],
          "name": "stdout"
        }
      ]
    },
    {
      "cell_type": "code",
      "metadata": {
        "id": "WcSPHHhpjD-A"
      },
      "source": [
        ""
      ],
      "execution_count": null,
      "outputs": []
    }
  ]
}