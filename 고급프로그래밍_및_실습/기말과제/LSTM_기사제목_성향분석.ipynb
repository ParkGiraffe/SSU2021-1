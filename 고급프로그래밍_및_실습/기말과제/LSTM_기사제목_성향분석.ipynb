{
  "nbformat": 4,
  "nbformat_minor": 0,
  "metadata": {
    "colab": {
      "name": "LSTM_기사제목_성향분석.ipynb",
      "provenance": [],
      "collapsed_sections": []
    },
    "kernelspec": {
      "name": "python3",
      "display_name": "Python 3"
    },
    "language_info": {
      "name": "python"
    }
  },
  "cells": [
    {
      "cell_type": "code",
      "metadata": {
        "colab": {
          "base_uri": "https://localhost:8080/"
        },
        "id": "7YGDMdGlUajO",
        "outputId": "d302abb4-0ea6-41ab-c31a-8bda5d455516"
      },
      "source": [
        "!pip3 install konlpy"
      ],
      "execution_count": 1,
      "outputs": [
        {
          "output_type": "stream",
          "text": [
            "Requirement already satisfied: konlpy in /usr/local/lib/python3.7/dist-packages (0.5.2)\n",
            "Requirement already satisfied: colorama in /usr/local/lib/python3.7/dist-packages (from konlpy) (0.4.4)\n",
            "Requirement already satisfied: tweepy>=3.7.0 in /usr/local/lib/python3.7/dist-packages (from konlpy) (3.10.0)\n",
            "Requirement already satisfied: lxml>=4.1.0 in /usr/local/lib/python3.7/dist-packages (from konlpy) (4.2.6)\n",
            "Requirement already satisfied: numpy>=1.6 in /usr/local/lib/python3.7/dist-packages (from konlpy) (1.19.5)\n",
            "Requirement already satisfied: beautifulsoup4==4.6.0 in /usr/local/lib/python3.7/dist-packages (from konlpy) (4.6.0)\n",
            "Requirement already satisfied: JPype1>=0.7.0 in /usr/local/lib/python3.7/dist-packages (from konlpy) (1.3.0)\n",
            "Requirement already satisfied: six>=1.10.0 in /usr/local/lib/python3.7/dist-packages (from tweepy>=3.7.0->konlpy) (1.15.0)\n",
            "Requirement already satisfied: requests-oauthlib>=0.7.0 in /usr/local/lib/python3.7/dist-packages (from tweepy>=3.7.0->konlpy) (1.3.0)\n",
            "Requirement already satisfied: requests[socks]>=2.11.1 in /usr/local/lib/python3.7/dist-packages (from tweepy>=3.7.0->konlpy) (2.23.0)\n",
            "Requirement already satisfied: typing-extensions; python_version < \"3.8\" in /usr/local/lib/python3.7/dist-packages (from JPype1>=0.7.0->konlpy) (3.7.4.3)\n",
            "Requirement already satisfied: oauthlib>=3.0.0 in /usr/local/lib/python3.7/dist-packages (from requests-oauthlib>=0.7.0->tweepy>=3.7.0->konlpy) (3.1.1)\n",
            "Requirement already satisfied: urllib3!=1.25.0,!=1.25.1,<1.26,>=1.21.1 in /usr/local/lib/python3.7/dist-packages (from requests[socks]>=2.11.1->tweepy>=3.7.0->konlpy) (1.24.3)\n",
            "Requirement already satisfied: idna<3,>=2.5 in /usr/local/lib/python3.7/dist-packages (from requests[socks]>=2.11.1->tweepy>=3.7.0->konlpy) (2.10)\n",
            "Requirement already satisfied: chardet<4,>=3.0.2 in /usr/local/lib/python3.7/dist-packages (from requests[socks]>=2.11.1->tweepy>=3.7.0->konlpy) (3.0.4)\n",
            "Requirement already satisfied: certifi>=2017.4.17 in /usr/local/lib/python3.7/dist-packages (from requests[socks]>=2.11.1->tweepy>=3.7.0->konlpy) (2021.5.30)\n",
            "Requirement already satisfied: PySocks!=1.5.7,>=1.5.6; extra == \"socks\" in /usr/local/lib/python3.7/dist-packages (from requests[socks]>=2.11.1->tweepy>=3.7.0->konlpy) (1.7.1)\n"
          ],
          "name": "stdout"
        }
      ]
    },
    {
      "cell_type": "code",
      "metadata": {
        "id": "8ioE_FzjK2ME"
      },
      "source": [
        "import pandas as pd\n",
        "import numpy as np\n",
        "%matplotlib inline\n",
        "import matplotlib.pyplot as plt\n",
        "import re\n",
        "import urllib.request\n",
        "from konlpy.tag import Okt\n",
        "from tensorflow.keras.preprocessing.text import Tokenizer\n",
        "from tensorflow.keras.preprocessing.sequence import pad_sequences"
      ],
      "execution_count": 2,
      "outputs": []
    },
    {
      "cell_type": "code",
      "metadata": {
        "id": "etU8goydUlAE"
      },
      "source": [
        "DATA_DIR = '/content/drive/My Drive/Colab Notebooks/고플_기말프로젝트/'"
      ],
      "execution_count": 3,
      "outputs": []
    },
    {
      "cell_type": "markdown",
      "metadata": {
        "id": "YqBnmNqzSnbr"
      },
      "source": [
        "# **전처리**"
      ]
    },
    {
      "cell_type": "code",
      "metadata": {
        "colab": {
          "base_uri": "https://localhost:8080/",
          "height": 419
        },
        "id": "KIxxxeQnK9X_",
        "outputId": "71808abb-5755-49ad-8e8d-c13e8622c093"
      },
      "source": [
        "df = pd.read_csv(DATA_DIR + 'merge.csv')\n",
        "# df.drop(['time'], axis=1, inplace=True)\n",
        "# df.drop(['press'], axis=1, inplace=True)\n",
        "# df.drop(['url'], axis=1, inplace=True)\n",
        "\n",
        "df"
      ],
      "execution_count": 4,
      "outputs": [
        {
          "output_type": "execute_result",
          "data": {
            "text/html": [
              "<div>\n",
              "<style scoped>\n",
              "    .dataframe tbody tr th:only-of-type {\n",
              "        vertical-align: middle;\n",
              "    }\n",
              "\n",
              "    .dataframe tbody tr th {\n",
              "        vertical-align: top;\n",
              "    }\n",
              "\n",
              "    .dataframe thead th {\n",
              "        text-align: right;\n",
              "    }\n",
              "</style>\n",
              "<table border=\"1\" class=\"dataframe\">\n",
              "  <thead>\n",
              "    <tr style=\"text-align: right;\">\n",
              "      <th></th>\n",
              "      <th>time</th>\n",
              "      <th>title</th>\n",
              "      <th>url</th>\n",
              "      <th>press</th>\n",
              "    </tr>\n",
              "  </thead>\n",
              "  <tbody>\n",
              "    <tr>\n",
              "      <th>0</th>\n",
              "      <td>2021-06-16 20:06:02.087773</td>\n",
              "      <td>日정부, 韓 법원 '한국내 재산 공개' 명령에 불응 시사</td>\n",
              "      <td>https://news.v.daum.net/v/20210616152851459</td>\n",
              "      <td>아시아경제</td>\n",
              "    </tr>\n",
              "    <tr>\n",
              "      <th>1</th>\n",
              "      <td>2021-06-16 20:06:02.087770</td>\n",
              "      <td>'유통망+e커머스 노하우' 시너지 기대..'승자의 저주' 우려도</td>\n",
              "      <td>https://news.v.daum.net/v/20210616183227619</td>\n",
              "      <td>파이낸셜뉴스</td>\n",
              "    </tr>\n",
              "    <tr>\n",
              "      <th>2</th>\n",
              "      <td>2021-06-16 20:06:02.087766</td>\n",
              "      <td>노동자 추락사에 또 '집행유예'..멀고 먼 책임자 처벌</td>\n",
              "      <td>https://news.v.daum.net/v/20210616195812621</td>\n",
              "      <td>MBC</td>\n",
              "    </tr>\n",
              "    <tr>\n",
              "      <th>3</th>\n",
              "      <td>2021-06-16 20:06:02.087750</td>\n",
              "      <td>與, 경선일정 현행유지 무게..'흥행' 경선룰 요구 분출</td>\n",
              "      <td>https://news.v.daum.net/v/20210616200331747</td>\n",
              "      <td>연합뉴스</td>\n",
              "    </tr>\n",
              "    <tr>\n",
              "      <th>4</th>\n",
              "      <td>2021-06-16 19:36:01.740731</td>\n",
              "      <td>日정부, 韓 법원 '한국내 재산 공개' 명령에 불응 시사</td>\n",
              "      <td>https://news.v.daum.net/v/20210616152851459</td>\n",
              "      <td>아시아경제</td>\n",
              "    </tr>\n",
              "    <tr>\n",
              "      <th>...</th>\n",
              "      <td>...</td>\n",
              "      <td>...</td>\n",
              "      <td>...</td>\n",
              "      <td>...</td>\n",
              "    </tr>\n",
              "    <tr>\n",
              "      <th>423</th>\n",
              "      <td>2021-06-14 14:28:45.709287</td>\n",
              "      <td>검찰, 이규원 검사 첫 소환..'과거사 조사단 의혹' 수사</td>\n",
              "      <td>https://news.v.daum.net/v/20210614142534200</td>\n",
              "      <td>뉴시스</td>\n",
              "    </tr>\n",
              "    <tr>\n",
              "      <th>424</th>\n",
              "      <td>2021-06-14 13:58:45.137030</td>\n",
              "      <td>스가 \"문 대통령이 인사하러 와서, 실례 안 되게 인사한 것\"</td>\n",
              "      <td>https://news.v.daum.net/v/20210614125602316</td>\n",
              "      <td>한겨레</td>\n",
              "    </tr>\n",
              "    <tr>\n",
              "      <th>425</th>\n",
              "      <td>2021-06-14 13:58:45.137024</td>\n",
              "      <td>\"중견기업 ESG 경영, 제도적 인센티브 뒷받침 돼야\"</td>\n",
              "      <td>https://news.v.daum.net/v/20210614125903376</td>\n",
              "      <td>전자신문</td>\n",
              "    </tr>\n",
              "    <tr>\n",
              "      <th>426</th>\n",
              "      <td>2021-06-14 13:58:45.137018</td>\n",
              "      <td>경찰 출신 변호사 '사적접촉 금지' 기간 5년으로 확대</td>\n",
              "      <td>https://news.v.daum.net/v/20210614134613589</td>\n",
              "      <td>한겨레</td>\n",
              "    </tr>\n",
              "    <tr>\n",
              "      <th>427</th>\n",
              "      <td>2021-06-14 13:58:45.136995</td>\n",
              "      <td>'약식' 한일정상회담 합의됐지만 日 일방적 취소..독도훈련 탓</td>\n",
              "      <td>https://news.v.daum.net/v/20210614135313779</td>\n",
              "      <td>뉴스1</td>\n",
              "    </tr>\n",
              "  </tbody>\n",
              "</table>\n",
              "<p>428 rows × 4 columns</p>\n",
              "</div>"
            ],
            "text/plain": [
              "                           time  ...   press\n",
              "0    2021-06-16 20:06:02.087773  ...   아시아경제\n",
              "1    2021-06-16 20:06:02.087770  ...  파이낸셜뉴스\n",
              "2    2021-06-16 20:06:02.087766  ...     MBC\n",
              "3    2021-06-16 20:06:02.087750  ...    연합뉴스\n",
              "4    2021-06-16 19:36:01.740731  ...   아시아경제\n",
              "..                          ...  ...     ...\n",
              "423  2021-06-14 14:28:45.709287  ...     뉴시스\n",
              "424  2021-06-14 13:58:45.137030  ...     한겨레\n",
              "425  2021-06-14 13:58:45.137024  ...    전자신문\n",
              "426  2021-06-14 13:58:45.137018  ...     한겨레\n",
              "427  2021-06-14 13:58:45.136995  ...     뉴스1\n",
              "\n",
              "[428 rows x 4 columns]"
            ]
          },
          "metadata": {
            "tags": []
          },
          "execution_count": 4
        }
      ]
    },
    {
      "cell_type": "code",
      "metadata": {
        "colab": {
          "base_uri": "https://localhost:8080/"
        },
        "id": "NAkn_vREDv2k",
        "outputId": "fda322b2-4e88-4ba9-b9d2-dc0877d7ea8b"
      },
      "source": [
        "def train_val_split(df):\n",
        "    train_df = pd.DataFrame(columns = df.columns)\n",
        "    val_df = pd.DataFrame(columns = df.columns)\n",
        "\n",
        "    train_df = df[:int(df['title'].count()*0.8)]\n",
        "    val_df = df[343:]\n",
        "    #df의 행의 개수가 428이므로, 428에 0.8을 곱한 후 올림을 하면 343이 나온다.\n",
        "        \n",
        "    return train_df, val_df\n",
        "\n",
        "train_df, test_df = train_val_split(df)\n",
        "train_df.shape, test_df.shape"
      ],
      "execution_count": 5,
      "outputs": [
        {
          "output_type": "execute_result",
          "data": {
            "text/plain": [
              "((342, 4), (85, 4))"
            ]
          },
          "metadata": {
            "tags": []
          },
          "execution_count": 5
        }
      ]
    },
    {
      "cell_type": "code",
      "metadata": {
        "colab": {
          "base_uri": "https://localhost:8080/"
        },
        "id": "xysqIzi8_ojL",
        "outputId": "d24afa0c-54a6-45ce-9b28-34f921ac3944"
      },
      "source": [
        "for ix in train_df.index :\n",
        "  if train_df.loc[ix, 'press'] == '경향신문' or df.loc[ix, 'press'] == '한겨레' or df.loc[ix, 'press'] == '프레시안' or df.loc[ix, 'press'] == '오마이뉴스' or df.loc[ix, 'press'] == '뉴스1' or df.loc[ix, 'press'] == '머니투데이' or df.loc[ix, 'press'] == '이데일리' or df.loc[ix, 'press'] == '미디어오늘' or df.loc[ix, 'press'] == 'YTN' or df.loc[ix, 'press'] ==  'MBC' or df.loc[ix, 'press'] == '뉴시스' or df.loc[ix, 'press'] == '서울신문' or df.loc[ix, 'press'] == '지디넷코리아' or df.loc[ix, 'press'] == '내일신문' :\n",
        "    train_df.loc[ix,'press'] = 1\n",
        "    #1은 진보와 중도, 0은 보수\n",
        "  else : \n",
        "    train_df.loc[ix,'press'] = 0\n",
        "\n",
        "\n",
        "for ix in test_df.index :\n",
        "  if test_df.loc[ix, 'press'] == '경향신문' or df.loc[ix, 'press'] == '한겨레' or df.loc[ix, 'press'] == '프레시안' or df.loc[ix, 'press'] == '오마이뉴스' or df.loc[ix, 'press'] == '뉴스1' or df.loc[ix, 'press'] == '머니투데이' or df.loc[ix, 'press'] == '이데일리' or df.loc[ix, 'press'] == '미디어오늘' or df.loc[ix, 'press'] == 'YTN' or df.loc[ix, 'press'] ==  'MBC' or df.loc[ix, 'press'] == '뉴시스' or df.loc[ix, 'press'] == '서울신문' or df.loc[ix, 'press'] == '지디넷코리아' or df.loc[ix, 'press'] == '내일신문' :\n",
        "    test_df.loc[ix,'press'] = 1\n",
        "    #1은 진보와 중도, 0은 보수\n",
        "  else : \n",
        "    test_df.loc[ix,'press'] = 0\n"
      ],
      "execution_count": 6,
      "outputs": [
        {
          "output_type": "stream",
          "text": [
            "/usr/local/lib/python3.7/dist-packages/pandas/core/indexing.py:670: SettingWithCopyWarning: \n",
            "A value is trying to be set on a copy of a slice from a DataFrame\n",
            "\n",
            "See the caveats in the documentation: https://pandas.pydata.org/pandas-docs/stable/user_guide/indexing.html#returning-a-view-versus-a-copy\n",
            "  iloc._setitem_with_indexer(indexer, value)\n",
            "/usr/local/lib/python3.7/dist-packages/ipykernel_launcher.py:6: SettingWithCopyWarning: \n",
            "A value is trying to be set on a copy of a slice from a DataFrame\n",
            "\n",
            "See the caveats in the documentation: https://pandas.pydata.org/pandas-docs/stable/user_guide/indexing.html#returning-a-view-versus-a-copy\n",
            "  \n",
            "/usr/local/lib/python3.7/dist-packages/ipykernel_launcher.py:3: SettingWithCopyWarning: \n",
            "A value is trying to be set on a copy of a slice from a DataFrame\n",
            "\n",
            "See the caveats in the documentation: https://pandas.pydata.org/pandas-docs/stable/user_guide/indexing.html#returning-a-view-versus-a-copy\n",
            "  This is separate from the ipykernel package so we can avoid doing imports until\n",
            "/usr/local/lib/python3.7/dist-packages/ipykernel_launcher.py:11: SettingWithCopyWarning: \n",
            "A value is trying to be set on a copy of a slice from a DataFrame\n",
            "\n",
            "See the caveats in the documentation: https://pandas.pydata.org/pandas-docs/stable/user_guide/indexing.html#returning-a-view-versus-a-copy\n",
            "  # This is added back by InteractiveShellApp.init_path()\n",
            "/usr/local/lib/python3.7/dist-packages/ipykernel_launcher.py:14: SettingWithCopyWarning: \n",
            "A value is trying to be set on a copy of a slice from a DataFrame\n",
            "\n",
            "See the caveats in the documentation: https://pandas.pydata.org/pandas-docs/stable/user_guide/indexing.html#returning-a-view-versus-a-copy\n",
            "  \n"
          ],
          "name": "stderr"
        }
      ]
    },
    {
      "cell_type": "code",
      "metadata": {
        "colab": {
          "base_uri": "https://localhost:8080/",
          "height": 667
        },
        "id": "duu4N_AoCAlo",
        "outputId": "536461d0-2315-4703-d1c2-a82d302fa98b"
      },
      "source": [
        "train_df['press'].value_counts().plot(kind='bar')\n",
        "train_df['press'].value_counts()\n",
        "train_df"
      ],
      "execution_count": 7,
      "outputs": [
        {
          "output_type": "execute_result",
          "data": {
            "text/html": [
              "<div>\n",
              "<style scoped>\n",
              "    .dataframe tbody tr th:only-of-type {\n",
              "        vertical-align: middle;\n",
              "    }\n",
              "\n",
              "    .dataframe tbody tr th {\n",
              "        vertical-align: top;\n",
              "    }\n",
              "\n",
              "    .dataframe thead th {\n",
              "        text-align: right;\n",
              "    }\n",
              "</style>\n",
              "<table border=\"1\" class=\"dataframe\">\n",
              "  <thead>\n",
              "    <tr style=\"text-align: right;\">\n",
              "      <th></th>\n",
              "      <th>time</th>\n",
              "      <th>title</th>\n",
              "      <th>url</th>\n",
              "      <th>press</th>\n",
              "    </tr>\n",
              "  </thead>\n",
              "  <tbody>\n",
              "    <tr>\n",
              "      <th>0</th>\n",
              "      <td>2021-06-16 20:06:02.087773</td>\n",
              "      <td>日정부, 韓 법원 '한국내 재산 공개' 명령에 불응 시사</td>\n",
              "      <td>https://news.v.daum.net/v/20210616152851459</td>\n",
              "      <td>0</td>\n",
              "    </tr>\n",
              "    <tr>\n",
              "      <th>1</th>\n",
              "      <td>2021-06-16 20:06:02.087770</td>\n",
              "      <td>'유통망+e커머스 노하우' 시너지 기대..'승자의 저주' 우려도</td>\n",
              "      <td>https://news.v.daum.net/v/20210616183227619</td>\n",
              "      <td>0</td>\n",
              "    </tr>\n",
              "    <tr>\n",
              "      <th>2</th>\n",
              "      <td>2021-06-16 20:06:02.087766</td>\n",
              "      <td>노동자 추락사에 또 '집행유예'..멀고 먼 책임자 처벌</td>\n",
              "      <td>https://news.v.daum.net/v/20210616195812621</td>\n",
              "      <td>1</td>\n",
              "    </tr>\n",
              "    <tr>\n",
              "      <th>3</th>\n",
              "      <td>2021-06-16 20:06:02.087750</td>\n",
              "      <td>與, 경선일정 현행유지 무게..'흥행' 경선룰 요구 분출</td>\n",
              "      <td>https://news.v.daum.net/v/20210616200331747</td>\n",
              "      <td>0</td>\n",
              "    </tr>\n",
              "    <tr>\n",
              "      <th>4</th>\n",
              "      <td>2021-06-16 19:36:01.740731</td>\n",
              "      <td>日정부, 韓 법원 '한국내 재산 공개' 명령에 불응 시사</td>\n",
              "      <td>https://news.v.daum.net/v/20210616152851459</td>\n",
              "      <td>0</td>\n",
              "    </tr>\n",
              "    <tr>\n",
              "      <th>...</th>\n",
              "      <td>...</td>\n",
              "      <td>...</td>\n",
              "      <td>...</td>\n",
              "      <td>...</td>\n",
              "    </tr>\n",
              "    <tr>\n",
              "      <th>337</th>\n",
              "      <td>2021-06-15 00:58:59.333461</td>\n",
              "      <td>\"해커의 로그 기록, 클라우드에 통째로 저장해 해킹 차단\"</td>\n",
              "      <td>https://news.v.daum.net/v/20210615000531259</td>\n",
              "      <td>0</td>\n",
              "    </tr>\n",
              "    <tr>\n",
              "      <th>338</th>\n",
              "      <td>2021-06-15 00:58:59.333454</td>\n",
              "      <td>나토 정상회의 \"중국은 구조적 도전 야기..책임 있게 행동하라\"</td>\n",
              "      <td>https://news.v.daum.net/v/20210615004845636</td>\n",
              "      <td>0</td>\n",
              "    </tr>\n",
              "    <tr>\n",
              "      <th>339</th>\n",
              "      <td>2021-06-15 00:58:59.333428</td>\n",
              "      <td>김정숙 여사 \"K팝 아시죠?\" 비엔나 박물관장 \"BTS 알아요\"</td>\n",
              "      <td>https://news.v.daum.net/v/20210615005558662</td>\n",
              "      <td>1</td>\n",
              "    </tr>\n",
              "    <tr>\n",
              "      <th>340</th>\n",
              "      <td>2021-06-15 00:28:59.007805</td>\n",
              "      <td>산은, HMM CB 주식 전환..쌍용차는 \"투자자가 결정\"</td>\n",
              "      <td>https://news.v.daum.net/v/20210614182932216</td>\n",
              "      <td>1</td>\n",
              "    </tr>\n",
              "    <tr>\n",
              "      <th>341</th>\n",
              "      <td>2021-06-15 00:28:59.007799</td>\n",
              "      <td>검찰 이첩 안했는데..공수처, '김학의 사건' 연루 문홍성 입건</td>\n",
              "      <td>https://news.v.daum.net/v/20210614230254650</td>\n",
              "      <td>0</td>\n",
              "    </tr>\n",
              "  </tbody>\n",
              "</table>\n",
              "<p>342 rows × 4 columns</p>\n",
              "</div>"
            ],
            "text/plain": [
              "                           time  ... press\n",
              "0    2021-06-16 20:06:02.087773  ...     0\n",
              "1    2021-06-16 20:06:02.087770  ...     0\n",
              "2    2021-06-16 20:06:02.087766  ...     1\n",
              "3    2021-06-16 20:06:02.087750  ...     0\n",
              "4    2021-06-16 19:36:01.740731  ...     0\n",
              "..                          ...  ...   ...\n",
              "337  2021-06-15 00:58:59.333461  ...     0\n",
              "338  2021-06-15 00:58:59.333454  ...     0\n",
              "339  2021-06-15 00:58:59.333428  ...     1\n",
              "340  2021-06-15 00:28:59.007805  ...     1\n",
              "341  2021-06-15 00:28:59.007799  ...     0\n",
              "\n",
              "[342 rows x 4 columns]"
            ]
          },
          "metadata": {
            "tags": []
          },
          "execution_count": 7
        },
        {
          "output_type": "display_data",
          "data": {
            "image/png": "[encoded data removed]",
            "text/plain": [
              "<Figure size 432x288 with 1 Axes>"
            ]
          },
          "metadata": {
            "tags": [],
            "needs_background": "light"
          }
        }
      ]
    },
    {
      "cell_type": "code",
      "metadata": {
        "colab": {
          "base_uri": "https://localhost:8080/",
          "height": 664
        },
        "id": "ho6yRt62Fc58",
        "outputId": "7f83bae5-a65a-413b-fe29-3b13880e37d1"
      },
      "source": [
        "\n",
        "test_df['press'].value_counts().plot(kind='bar')\n",
        "test_df['press'].value_counts()\n",
        "test_df"
      ],
      "execution_count": 8,
      "outputs": [
        {
          "output_type": "execute_result",
          "data": {
            "text/html": [
              "<div>\n",
              "<style scoped>\n",
              "    .dataframe tbody tr th:only-of-type {\n",
              "        vertical-align: middle;\n",
              "    }\n",
              "\n",
              "    .dataframe tbody tr th {\n",
              "        vertical-align: top;\n",
              "    }\n",
              "\n",
              "    .dataframe thead th {\n",
              "        text-align: right;\n",
              "    }\n",
              "</style>\n",
              "<table border=\"1\" class=\"dataframe\">\n",
              "  <thead>\n",
              "    <tr style=\"text-align: right;\">\n",
              "      <th></th>\n",
              "      <th>time</th>\n",
              "      <th>title</th>\n",
              "      <th>url</th>\n",
              "      <th>press</th>\n",
              "    </tr>\n",
              "  </thead>\n",
              "  <tbody>\n",
              "    <tr>\n",
              "      <th>343</th>\n",
              "      <td>2021-06-15 00:28:59.007769</td>\n",
              "      <td>\"K팝 아시죠?\" 김정숙 여사 질문에 \"BTS!\"..빈 미술사박물관 웃음꽃</td>\n",
              "      <td>https://news.v.daum.net/v/20210615001641403</td>\n",
              "      <td>1</td>\n",
              "    </tr>\n",
              "    <tr>\n",
              "      <th>344</th>\n",
              "      <td>2021-06-14 23:58:58.438876</td>\n",
              "      <td>산은, HMM CB 주식 전환..쌍용차는 \"투자자가 결정\"</td>\n",
              "      <td>https://news.v.daum.net/v/20210614182932216</td>\n",
              "      <td>1</td>\n",
              "    </tr>\n",
              "    <tr>\n",
              "      <th>345</th>\n",
              "      <td>2021-06-14 23:58:58.438870</td>\n",
              "      <td>\"나토, 정상회의 공동성명에 '중국 행동은 구조적 도전' 명시 예정\"</td>\n",
              "      <td>https://news.v.daum.net/v/20210614225917610</td>\n",
              "      <td>0</td>\n",
              "    </tr>\n",
              "    <tr>\n",
              "      <th>346</th>\n",
              "      <td>2021-06-14 23:58:58.438864</td>\n",
              "      <td>文대통령, 오스트리아 정상회담 \"수소 분야 협력하면 시너지효과\"</td>\n",
              "      <td>https://news.v.daum.net/v/20210614230202645</td>\n",
              "      <td>1</td>\n",
              "    </tr>\n",
              "    <tr>\n",
              "      <th>347</th>\n",
              "      <td>2021-06-14 23:58:58.438839</td>\n",
              "      <td>검찰 이첩 안했는데..공수처, '김학의 사건' 연루 문홍성 입건</td>\n",
              "      <td>https://news.v.daum.net/v/20210614230254650</td>\n",
              "      <td>0</td>\n",
              "    </tr>\n",
              "    <tr>\n",
              "      <th>...</th>\n",
              "      <td>...</td>\n",
              "      <td>...</td>\n",
              "      <td>...</td>\n",
              "      <td>...</td>\n",
              "    </tr>\n",
              "    <tr>\n",
              "      <th>423</th>\n",
              "      <td>2021-06-14 14:28:45.709287</td>\n",
              "      <td>검찰, 이규원 검사 첫 소환..'과거사 조사단 의혹' 수사</td>\n",
              "      <td>https://news.v.daum.net/v/20210614142534200</td>\n",
              "      <td>1</td>\n",
              "    </tr>\n",
              "    <tr>\n",
              "      <th>424</th>\n",
              "      <td>2021-06-14 13:58:45.137030</td>\n",
              "      <td>스가 \"문 대통령이 인사하러 와서, 실례 안 되게 인사한 것\"</td>\n",
              "      <td>https://news.v.daum.net/v/20210614125602316</td>\n",
              "      <td>1</td>\n",
              "    </tr>\n",
              "    <tr>\n",
              "      <th>425</th>\n",
              "      <td>2021-06-14 13:58:45.137024</td>\n",
              "      <td>\"중견기업 ESG 경영, 제도적 인센티브 뒷받침 돼야\"</td>\n",
              "      <td>https://news.v.daum.net/v/20210614125903376</td>\n",
              "      <td>0</td>\n",
              "    </tr>\n",
              "    <tr>\n",
              "      <th>426</th>\n",
              "      <td>2021-06-14 13:58:45.137018</td>\n",
              "      <td>경찰 출신 변호사 '사적접촉 금지' 기간 5년으로 확대</td>\n",
              "      <td>https://news.v.daum.net/v/20210614134613589</td>\n",
              "      <td>1</td>\n",
              "    </tr>\n",
              "    <tr>\n",
              "      <th>427</th>\n",
              "      <td>2021-06-14 13:58:45.136995</td>\n",
              "      <td>'약식' 한일정상회담 합의됐지만 日 일방적 취소..독도훈련 탓</td>\n",
              "      <td>https://news.v.daum.net/v/20210614135313779</td>\n",
              "      <td>1</td>\n",
              "    </tr>\n",
              "  </tbody>\n",
              "</table>\n",
              "<p>85 rows × 4 columns</p>\n",
              "</div>"
            ],
            "text/plain": [
              "                           time  ... press\n",
              "343  2021-06-15 00:28:59.007769  ...     1\n",
              "344  2021-06-14 23:58:58.438876  ...     1\n",
              "345  2021-06-14 23:58:58.438870  ...     0\n",
              "346  2021-06-14 23:58:58.438864  ...     1\n",
              "347  2021-06-14 23:58:58.438839  ...     0\n",
              "..                          ...  ...   ...\n",
              "423  2021-06-14 14:28:45.709287  ...     1\n",
              "424  2021-06-14 13:58:45.137030  ...     1\n",
              "425  2021-06-14 13:58:45.137024  ...     0\n",
              "426  2021-06-14 13:58:45.137018  ...     1\n",
              "427  2021-06-14 13:58:45.136995  ...     1\n",
              "\n",
              "[85 rows x 4 columns]"
            ]
          },
          "metadata": {
            "tags": []
          },
          "execution_count": 8
        },
        {
          "output_type": "display_data",
          "data": {
            "image/png": "[encoded data removed]",
            "text/plain": [
              "<Figure size 432x288 with 1 Axes>"
            ]
          },
          "metadata": {
            "tags": [],
            "needs_background": "light"
          }
        }
      ]
    },
    {
      "cell_type": "code",
      "metadata": {
        "id": "w7b38q8zCouF"
      },
      "source": [
        "#정규표현식 함수\n",
        "\n",
        "import re\n",
        "def apply_regular_expression(text):\n",
        "    hangul = re.compile('[^ ㄱ-ㅣ 가-힣]')  # 한글 추출 규칙: 띄어 쓰기(1 개)를 포함한 한글\n",
        "    result = hangul.sub('', text)  # 위에 설정한 \"hangul\"규칙을 \"text\"에 적용(.sub)시킴\n",
        "    return result"
      ],
      "execution_count": 9,
      "outputs": []
    },
    {
      "cell_type": "code",
      "metadata": {
        "id": "-LQVsV-uDBuO"
      },
      "source": [
        "from konlpy.tag import Okt #명사 형태소 추출함수\n",
        "\n",
        "okt = Okt()\n",
        "X_train = []\n",
        "for sentence in train_df['title']:\n",
        "    temp_X = okt.morphs(apply_regular_expression(sentence), stem=True) # 토큰화\n",
        "    X_train.append(temp_X)\n",
        "\n",
        "\n",
        "X_test = []\n",
        "for sentence in test_df['title']:\n",
        "    temp_X = okt.morphs(apply_regular_expression(sentence), stem=True) # 토큰화\n",
        "    X_test.append(temp_X)"
      ],
      "execution_count": 10,
      "outputs": []
    },
    {
      "cell_type": "code",
      "metadata": {
        "colab": {
          "base_uri": "https://localhost:8080/"
        },
        "id": "N9_FoyKmGoWI",
        "outputId": "90c5822a-ed07-4294-a3c6-b7cf24be46dd"
      },
      "source": [
        "print(X_train[:2])\n",
        "print(X_test[:2])"
      ],
      "execution_count": 11,
      "outputs": [
        {
          "output_type": "stream",
          "text": [
            "[['정부', '법원', '한', '국내', '재산', '공개', '명령', '에', '불응', '시사'], ['유통', '망', '커머스', '노하우', '시너지', '기대승', '자', '의', '저주', '우려', '도']]\n",
            "[['팝', '아시', '죠', '김정숙', '여사', '질문', '에', '빈', '미술사', '박물관', '웃음꽃'], ['산', '은', '주식', '전환', '쌍용차', '는', '투자자', '가', '결정']]\n"
          ],
          "name": "stdout"
        }
      ]
    },
    {
      "cell_type": "code",
      "metadata": {
        "id": "A2LQZPqTL_Gf"
      },
      "source": [
        "tokenizer = Tokenizer() #단어를 자동으로 선택\n",
        "tokenizer.fit_on_texts(X_train) #tokenizer에 맞게 단어 인덱스를 구축\n"
      ],
      "execution_count": 12,
      "outputs": []
    },
    {
      "cell_type": "code",
      "metadata": {
        "colab": {
          "base_uri": "https://localhost:8080/"
        },
        "id": "ymW1zKbCHsrr",
        "outputId": "164baec1-89df-4114-dbd3-319c16479c36"
      },
      "source": [
        "print(tokenizer.word_index) #계산된 단어 인덱스를 dict 형태로 변환\n"
      ],
      "execution_count": 13,
      "outputs": [
        {
          "output_type": "stream",
          "text": [
            "{'에': 1, '하다': 2, '한': 3, '도': 4, '의': 5, '로': 6, '중국': 7, '만': 8, '이': 9, '되다': 10, '못': 11, '은': 12, '적': 13, '나토': 14, '최저임금': 15, '명': 16, '접종': 17, '시간': 18, '푸틴': 19, '는': 20, '월': 21, '대통령': 22, '바이든': 23, '들': 24, '백신': 25, '대': 26, '백': 27, '자': 28, '친구': 29, '으로': 30, '공': 31, '도전': 32, '법원': 33, '이준석': 34, '서': 35, '국제': 36, '문': 37, '몸무게': 38, '년': 39, '개': 40, '정부': 41, '째': 42, '과': 43, '정상회담': 44, '만원': 45, '올핸': 46, '시급': 47, '표기': 48, '정해': 49, '속도': 50, '내다': 51, '내년': 52, '심의': 53, '가': 54, '화': 55, '신': 56, '수': 57, '일자리': 58, '국내': 59, '재산': 60, '공개': 61, '명령': 62, '불응': 63, '시사': 64, '기업': 65, '예정': 66, '첫': 67, '교황': 68, '방북': 69, '그날': 70, '동거': 71, '감금': 72, '학대': 73, '숨지다': 74, '고작': 75, '방어': 76, '과장': 77, '것': 78, '중': 79, '론': 80, '주': 81, '정상화': 82, '최대': 83, '있다': 84, '총리': 85, '차': 86, '높다': 87, '지키다': 88, '우리': 89, '위협': 90, '말르다': 91, '피해': 92, '이첩': 93, '초단': 94, '윤석열': 95, '최고': 96, '만에': 97, '사건': 98, '안': 99, '이틀': 100, '오늘': 101, '미국': 102, '없다': 103, '가톨릭': 104, '윤리': 105, '의식': 106, '기대': 107, '검찰': 108, '처': 109, '책임': 110, '차단': 111, '경연': 112, '감소': 113, '안보': 114, '질서': 115, '대다': 116, '성큼': 117, '대응': 118, '보다': 119, '정치': 120, '한국': 121, '전': 122, '규제': 123, '알다': 124, '김학의': 125, '고용': 126, '빠르다': 127, '회복': 128, '취업': 129, '절반': 130, '근로': 131, '알바': 132, '않다': 133, '명대': 134, '해킹': 135, '야기': 136, '행동': 137, '망': 138, '우려': 139, '단식': 140, '건보': 141, '코스피': 142, '장': 143, '개월': 144, '협력': 145, '당': 146, '원': 147, '서울': 148, '아직': 149, '인': 150, '적용': 151, '국': 152, '회담': 153, '힘': 154, '곳곳': 155, '김정은': 156, '의혹': 157, '갈등': 158, '조사': 159, '휴일': 160, '영향': 161, '이르다': 162, '달성': 163, '쓰레기': 164, '전환': 165, '연루': 166, '홍성': 167, '입건': 168, '커머스': 169, '코로나': 170, '국민': 171, '보고': 172, '없이': 173, '까지': 174, '경전': 175, '노동부': 176, '대로': 177, '시간제': 178, '나서다': 179, '김': 180, '캘리포니아': 181, '뉴욕': 182, '방역': 183, '대폭': 184, '해제': 185, '전국': 186, '회의': 187, '구': 188, '도심': 189, '경기': 190, '침체': 191, '야간': 192, '더욱': 193, '심각': 194, '러시아': 195, '오스트리아': 196, '금통위': 197, '필요': 198, '에도': 199, '맹물': 200, '정규직': 201, '격화': 202, '단': 203, '이사장': 204, '농성': 205, '해커': 206, '로그': 207, '기록': 208, '클라우드': 209, '통째': 210, '저장': 211, '유통': 212, '노하우': 213, '시너지': 214, '기대승': 215, '저주': 216, '측': 217, '교체': 218, '인수': 219, '예고': 220, '등': 221, '파업': 222, '사흘': 223, '랠리': 224, '치도': 225, '경신': 226, '출마': 227, '스페인': 228, '받다': 229, '조': 230, '남다': 231, '선언': 232, '위반': 233, '의원': 234, '택배': 235, '노조': 236, '입당': 237, '시간표': 238, '주의': 239, '경제': 240, '역대': 241, '부터': 242, '기': 243, '대체로': 244, '흐리다': 245, '빗방울': 246, '낮': 247, '안팎': 248, '더위': 249, '다윗': 250, '골리앗': 251, '대결': 252, '폭풍': 253, '성장': 254, '밀': 255, '키트': 256, '시장': 257, '승자': 258, '식사': 259, '문제': 260, '빨르다': 261, '나체': 262, '발견': 263, '남성': 264, '가두다': 265, '가혹': 266, '행위': 267, '숨다': 268, '구속': 269, '적극': 270, '도쿄올림픽': 271, '맞추다': 272, '방일': 273, '사다': 274, '유엔': 275, '안보리': 276, '비상임이사국': 277, '경쟁': 278, '한일': 279, '일': 280, '직무': 281, '회피': 282, '전현희': 283, '군': 284, '병원': 285, '주사': 286, '사용': 287, '완료': 288, '신병': 289, '식염수': 290, '주입': 291, '황당': 292, '실수': 293, '팝': 294, '요구': 295, '불법': 296, '가족': 297, '병사': 298, '에서': 299, '야당': 300, '을': 301, '주인': 302, '아버지': 303, '관계': 304, '의전': 305, '극복': 306, '시험대': 307, '이상직': 308, '형': 309, '혐의': 310, '중부': 311, '맑다': 312, '남부': 313, '비소': 314, '식': 315, '한낮': 316, '자외선': 317, '재개': 318, '본격': 319, '인권': 320, '탄압': 321, '책임지다': 322, '제재': 323, '실행': 324, '광주': 325, '개입': 326, '크다': 327, '넘다': 328, '정세': 329, '논의': 330, '코인': 331, '정상': 332, '온실가스': 333, '감축': 334, '목표': 335, '상향': 336, '동참': 337, '인력': 338, '투입': 339, '가능': 340, '기소': 341, '국힘': 342, '하태경': 343, '대선': 344, '주장': 345, '구조': 346, '똑똑하다': 347, '적수': 348, '생기다': 349, '거울': 350, '내지': 351, '비': 352, '북한': 353, '이렇게': 354, '추진': 355, '부인': 356, '사라지다': 357, '편향': 358, '오해': 359, '육지': 360, '바다': 361, '유입': 362, '해수부': 363, '여름철': 364, '해양': 365, '최소': 366, '자신': 367, '새': 368, '또': 369, '집행유예': 370, '멀다': 371, '경선': 372, '일정': 373, '압수수색': 374, '경찰': 375, '확인': 376, '총장': 377, '출신': 378, '사망': 379, '탈': 380, '네이버': 381, '이베이': 382, '지각': 383, '타투': 384, '보호': 385, '고객': 386, '전략': 387, '동반': 388, '인권위': 389, '구치소': 390, '입장': 391, '바꾸다': 392, '생각': 393, '수리': 394, '송영길': 395, '만난': 396, '협치': 397, '파트너': 398, '달라': 399, '여야': 400, '체': 401, '가동': 402, '이마트': 403, '작년': 404, '찾다': 405, '보험금': 406, '조억원': 407, '육군': 408, '부대': 409, '대대장': 410, '소속': 411, '군부': 412, '불다': 413, '협박': 414, '분수령': 415, '미러': 416, '제도': 417, '황금': 418, '열쇠': 419, '선물': 420, '안철수': 421, '압박': 422, '강화하다': 423, '중러': 424, '밀착': 425, '소통': 426, '수석': 427, '열리다': 428, '자세': 429, '중요': 430, '이웃': 431, '역할': 432, '주목': 433, '선거법': 434, '당선': 435, '무효': 436, '기자회견': 437, '따로': 438, '수술실': 439, '앞두다': 440, '팬데믹': 441, '공모': 442, '자금': 443, '크래프톤': 444, '상장': 445, '식량': 446, '형편': 447, '긴장': 448, '국왕': 449, '체제': 450, '거리': 451, '개편': 452, '확': 453, '진자': 454, '이스타항공': 455, '쌍방울': 456, '성': 457, '정': 458, '노동당': 459, '전원': 460, '주재': 461, '방향': 462, '결정': 463, '님': 464, '곧': 465, '오다': 466, '기대하다': 467, '붕괴': 468, '공사': 469, '수주': 470, '단체': 471, '회장': 472, '도주': 473, '내': 474, '언택트': 475, '왕': 476, '이롭다': 477, '이재명': 478, '러': 479, '달': 480, '기술': 481, '약속': 482, '발표': 483, '포위': 484, '그림': 485, '완성': 486, '실마리': 487, '풀리다': 488, '물류': 489, '수용': 490, '노동시간': 491, '단축': 492, '난관': 493, '시기': 494, '진전': 495, '매': 496, '파색': 497, '짙어지다': 498, '금리': 499, '인상': 500, '지나': 501, '박범계': 502, '법률': 503, '플랫폼': 504, '로톡': 505, '변호': 506, '사법': 507, '상당수': 508, '기준금리': 509, '점진': 510, '부': 511, '이규원': 512, '적법하다': 513, '통화정책': 514, '완벽하다': 515, '무대': 516, '위해': 517, '뮤지컬': 518, '비틀': 519, '쥬스': 520, '개막': 521, '연기': 522, '민심': 523, '시대': 524, '소환': 525, '야권': 526, '반': 527, '마': 528, '오': 529, '환자': 530, '미치다': 531, '대학': 532, '비판': 533, '탈북': 534, '유학생': 535, '유기': 536, '치사': 537, '후': 538, '재판': 539, '통합': 540, '불발': 541, '현장': 542, '싸움': 543, '억': 544, '회분': 545, '더': 546, '지원': 547, '늦다': 548, '선택': 549, '지난달': 550, '미만': 551, '근로자': 552, '배후': 553, '증거': 554, '제시': 555, '상충': 556, '대미': 557, '악성': 558, '암': 559, '엄포': 560, '여성': 561, '동무': 562, '대신': 563, '오빠': 564, '규정': 565, '웃다': 566, '명시': 567, '민경욱': 568, '젊은이': 569, '줄': 570, '듯': 571, '견제': 572, '김정숙': 573, '여사': 574, '질문': 575, '비엔나': 576, '세': 577, '추경': 578, '다시': 579, '돌아오다': 580, '홍': 581, '야하다': 582, '난제': 583, '셋': 584, '방취': 585, '소일': 586, '독도': 587, '훈련': 588, '개혁': 589, '만족도': 590, '연속': 591, '하락': 592, '두다': 593, '양상': 594, '캠프': 595, '메시지': 596, '혼선': 597, '노동자': 598, '추락': 599, '사': 600, '책임자': 601, '처벌': 602, '현행': 603, '유지': 604, '무게': 605, '흥행': 606, '룰': 607, '분출': 608, '현대': 609, '산업': 610, '개발': 611, '본사': 612, '하도급': 613, '사무': 614, '내정': 615, '한기호': 616, '군인': 617, '가장': 618, '공명정대': 619, '마포': 620, '오피스텔': 621, '지난해': 622, '용의자': 623, '고소하다': 624, '진보': 625, '품다': 626, '압도': 627, '정권': 628, '빅': 629, '텐트': 630, '꺼내다': 631, '앞': 632, '중대장': 633, '돼지': 634, '같다': 635, '모욕': 636, '소대장': 637, '보직': 638, '해임': 639, '원세훈': 640, '사람': 641, '죽이다': 642, '아니다': 643, '너무': 644, '잔인': 645, '선처': 646, '호소': 647, '신세계': 648, '업계': 649, '변동': 650, '류': 651, '호정': 652, '새다': 653, '보라색': 654, '드레스': 655, '자유': 656, '하': 657, '라': 658, '김용익': 659, '통': 660, '공단': 661, '센터': 662, '풀다': 663, '가시': 664, '측근': 665, '수사': 666, '향': 667, '배다': 668, '관심': 669, '전기': 670, '수소차': 671, '격상': 672, '집단': 673, '감염': 674, '미흡': 675, '갑자기': 676, '웬': 677, '맡기다': 678, '랜섬': 679, '웨어': 680, '심다': 681, '수억': 682, '챙기다': 683, '기사': 684, '검거': 685, '집권': 686, '눈': 687, '오만하다': 688, '비치다': 689, '끄다': 690, '걱정': 691, '울': 692, '중앙': 693, '지': 694, '검': 695, '기다': 696, '단독': 697, '지휘': 698, '정무수석': 699, '이철희': 700, '정협': 701, '시내': 702, '노숙인': 703, '정보': 704, '접근성': 705, '현저': 706, '히': 707, '낮다': 708, '코리아': 709, '유력': 710, '통보': 711, '열다': 712, '조국': 713, '언행': 714, '일치': 715, '민주당': 716, '밀접': 717, '접촉': 718, '곳': 719, '대기': 720, '경고': 721, '합당': 722, '제안': 723, '정합': 724, '최악': 725, '시나리오': 726, '징역': 727, '월집유': 728, '상경': 729, '투쟁': 730, '위법행위': 731, '엄정': 732, '천': 733, '봉쇄': 734, '착순': 735, '어제': 736, '호응': 737, '중도': 738, '확장': 739, '숨': 740, '고르다': 741, '조직': 742, '선거': 743, '범죄': 744, '심': 745, '실형': 746, '국회': 747, '사례': 748, '중론': 749, '아연': 750, '실색': 751, '맹공': 752, '과시': 753, '식량난': 754, '인정': 755, '인민': 756, '배우다': 757, '만찬': 758, '건물': 759, '참사': 760, '조폭': 761, '이미': 762, '뜨다': 763, '김부겸': 764, '두기': 765, '일상': 766, '변화': 767, '고령': 768, '층': 769, '급감': 770, '기우': 771, '나': 772, '추가': 773, '베팅': 774, '관건': 775, '놀다': 776, '나르다': 777, '장소': 778, '먼저': 779, '롤스로이스': 780, '마대': 781, '웅장': 782, '환대': 783, '빗': 784, '종': 785, '상폐': 786, '업': 787, '비트': 788, '거래소': 789, '잡': 790, '정리': 791, '계속': 792, '방문': 793, '권위': 794, '하고': 795, '발전': 796, '닮다': 797, '교통사고': 798, '사망자': 799, '명사': 800, '고': 801, '집계': 802, '이후': 803, '최저': 804, '희화': 805, '달라지다': 806, '게': 807, '실망': 808, '체재': 809, '탄소': 810, '바람': 811, '오히려': 812, '유가': 813, '를': 814, '올린다': 815, '큐어': 816, '아시아': 817, '태평양': 818, '거점': 819, '고려': 820, '해달라다': 821, '밉다': 822, '동성': 823, '공동': 824, '천명': 825, '이낙연': 826, '씩': 827, '주자': 828, '기본소득': 829, '요란하다': 830, '토론': 831, '재작년': 832, '공식': 833, '법': 834, '공세': 835, '여론조사': 836, '직격': 837, '세계': 838, '훨씬': 839, '평가': 840, '분단': 841, '위기': 842, '중립국': 843, '분류': 844, '일부': 845, '중단': 846, '가능하다': 847, '세월호': 848, '특검': 849, '유가족': 850, '필요하다': 851, '대통령기록물': 852, '조건': 853, '검공': 854, '이번': 855, '엔': 856, '올림픽': 857, '방': 858, '만남': 859, '지속': 860, '완화': 861, '기조': 862, '조정': 863, '모임': 864, '이제': 865, '그만': 866, '인데': 867, '문건': 868, '유출': 869, '감사원': 870, '의뢰': 871, '쇼': 872, '권익위': 873, '요청서': 874, '달랑': 875, '출국': 876, '적법': 877, '손': 878, '들어주다': 879, '유보': 880, '판정': 881, '패': 882, '중사': 883, '국선': 884, '변호사': 885, '중위': 886, '피의자': 887, '신상': 888, '유포자': 889, '이용구': 890, '서초': 891, '형사': 892, '발의': 893, '스': 894, '내각': 895, '불신': 896, '임안': 897, '부결': 898, '문구': 899, '박우리': 900, '군사력': 901, '수조': 902, '사의': 903, '정치학': 904, '오른': 905, '택': 906, '차규': 907, '근': 908, '추미애': 909, '대권': 910, '잡다': 911, '공포정치': 912, '검증': 913, '오르다': 914, '지지율': 915, '다': 916, '빠지다': 917, '올해': 918, '브리': 919, '패혈증': 920, '발생': 921, '질병': 922, '청': 923, '어패류': 924, '익히다': 925, '들다': 926, '성폭력': 927, '성희롱': 928, '징계': 929, '교사': 930, '담임': 931, '배제': 932, '이인영': 933, '달말': 934, '방미': 935, '접다': 936, '성과': 937, '재': 938, '친딸': 939, '친부': 940, '잠적': 941, '양': 942, '범': 943, '시금석': 944, '나타나다': 945, '친': 946, '부친': 947, '딸': 948, '남북': 949, '이산가족': 950, '화상': 951, '상봉': 952, '하자': 953, '누구': 954, '인가': 955, '해외': 956, '반출': 957, '뻔하다': 958, '지정': 959, '문화재': 960, '점': 961, '회수': 962, '원전': 963, '누': 964, '추다': 965, '신다': 966, '영사': 967, '안전하다': 968, '맨손': 969, '박쥐': 970, '연구': 971, '우한': 972, '연구소': 973, '음모': 974, '정통부': 975, '무리하다': 976, '지침': 977, '소급': 978, '중소기업': 979, '속출': 980, '노형욱': 981, '재개발': 982, '서류': 983, '법규': 984, '준수': 985, '형식': 986, '레드라인': 987, '분명하다': 988, '들여다보다': 989, '목전': 990, '과학': 991, '지성': 992, '몰상식': 993, '괴담': 994, '이기다': 995, '대한민국': 996, '만들다': 997, '서울시': 998, '소상': 999, '공인': 1000, '생애': 1001, '기별': 1002, '창업': 1003, '폐업': 1004, '단계': 1005, '별': 1006, '맞춤': 1007, '막판': 1008, '뿅': 1009, '신규': 1010, '확진': 1011, '눈앞': 1012, '말': 1013, '다르다': 1014, '국방부': 1015, '성추행': 1016, '부사관': 1017, '관련': 1018, '대변인': 1019, '사이버공격': 1020, '대본': 1021, '돌파': 1022, '살인자': 1023, '나다': 1024, '북': 1025, '협상': 1026, '촉구': 1027, '처음': 1028, '언급': 1029, '문화': 1030, '강조': 1031, '한일정상회담': 1032, '일방': 1033, '취소': 1034, '사실': 1035, '무근': 1036, '존엄사': 1037, '장기이식': 1038, '에게': 1039, '삶': 1040, '곰팡이': 1041, '바이러스': 1042, '뇌': 1043, '벽': 1044, '뚫다': 1045, '원리': 1046, '밝혀내다': 1047, '마르다': 1048, '때리다': 1049, '불안': 1050, '커지다': 1051, '황당하다': 1052, '장병': 1053, '출근길': 1054, '주룩주룩': 1055, '제주도': 1056, '이상': 1057, '격리': 1058, '면제': 1059, '안되다': 1060, '벌써': 1061, '들뜨다': 1062, '항공사': 1063, '뻘': 1064, '경비원': 1065, '멍멍': 1066, '짖다': 1067, '입': 1068, '주민': 1069, '수년': 1070, '간': 1071, '가다': 1072, '대중': 1073, '개념': 1074, '총리와': 1075, '동맹': 1076, '함께': 1077, '대처': 1078, '동의': 1079, '공급': 1080, '데뷔': 1081, '전광주': 1082, '찍다': 1083, '파격': 1084, '여의도': 1085, '표준': 1086, '돼다': 1087, '에르도안': 1088, '감염병': 1089, '매뉴얼': 1090, '마련': 1091, '강화': 1092, '체계': 1093, '하라': 1094, '아시': 1095, '죠': 1096, '박물관': 1097, '산': 1098, '주식': 1099, '쌍용차': 1100, '투자자': 1101}\n"
          ],
          "name": "stdout"
        }
      ]
    },
    {
      "cell_type": "code",
      "metadata": {
        "colab": {
          "base_uri": "https://localhost:8080/"
        },
        "id": "vEVWAghGJ0D6",
        "outputId": "3e81012d-b7e4-4880-9d2e-65a30c0c8eea"
      },
      "source": [
        "# 빈도 2 이상인 단어를 연산에 이용하기 위해, 빈도가 1인 단어는 제외하는 작업.\n",
        "\n",
        "threshold = 1\n",
        "total_cnt = len(tokenizer.word_index) # 단어의 수\n",
        "rare_cnt = 0 # 등장 빈도수가 threshold보다 작은 단어의 개수를 카운트\n",
        "total_freq = 0 # 훈련 데이터의 전체 단어 빈도수 총 합\n",
        "rare_freq = 0 # 등장 빈도수가 threshold보다 작은 단어의 등장 빈도수의 총 합\n",
        "\n",
        "# 단어와 빈도수의 쌍(pair)을 key와 value로 받는다.\n",
        "for key, value in tokenizer.word_counts.items():\n",
        "    total_freq = total_freq + value\n",
        "\n",
        "    # 단어의 등장 빈도수가 threshold보다 작으면\n",
        "    if(value < threshold):\n",
        "        rare_cnt = rare_cnt + 1\n",
        "        rare_freq = rare_freq + value\n",
        "\n",
        "print('총 단어 갯수 :',total_cnt)\n",
        "print('등장 빈도가 %s번 이하인 희귀 단어의 수: %s'%(threshold - 1, rare_cnt))\n",
        "print(\"단어 집합에서 희귀 단어의 비율:\", (rare_cnt / total_cnt)*100)\n",
        "print(\"전체 등장 빈도에서 희귀 단어 등장 빈도 비율:\", (rare_freq / total_freq)*100)"
      ],
      "execution_count": 14,
      "outputs": [
        {
          "output_type": "stream",
          "text": [
            "총 단어 갯수 : 1101\n",
            "등장 빈도가 0번 이하인 희귀 단어의 수: 0\n",
            "단어 집합에서 희귀 단어의 비율: 0.0\n",
            "전체 등장 빈도에서 희귀 단어 등장 빈도 비율: 0.0\n"
          ],
          "name": "stdout"
        }
      ]
    },
    {
      "cell_type": "code",
      "metadata": {
        "colab": {
          "base_uri": "https://localhost:8080/"
        },
        "id": "Bd-ctGe5KVCI",
        "outputId": "f754a895-50b7-4d9e-eed7-88419b8afef4"
      },
      "source": [
        "# 전체 단어 개수 중 빈도수 2이하인 단어는 제거.\n",
        "# 0번 패딩 토큰을 고려하여 + 1\n",
        "vocab_size = total_cnt \n",
        "# - rare_cnt + 1\n",
        "print('출현 빈도가 2회 이상인 단어 집합의 크기 :',vocab_size)\n"
      ],
      "execution_count": 15,
      "outputs": [
        {
          "output_type": "stream",
          "text": [
            "출현 빈도가 2회 이상인 단어 집합의 크기 : 1101\n"
          ],
          "name": "stdout"
        }
      ]
    },
    {
      "cell_type": "code",
      "metadata": {
        "id": "oCoTLGFbJFNC"
      },
      "source": [
        "tokenizer = Tokenizer(vocab_size) #빈도가 높은 n개를 우선으로 단어를 선택함.  vocab_size를 넣음으로써 빈도가 2 이상인 단어만 선택.\n",
        "tokenizer.fit_on_texts(X_train) #tokenizer에 따라 X_train중 빈도가 2 이상인 단어를 가지고, 단어 인덱스를 구축.\n",
        "X_train = tokenizer.texts_to_sequences(X_train) #문자열을 인덱스의 리스트로 변환, 만약 리스트에 없는 단어라면 [] 공백으로 두어짐.\n",
        "X_test = tokenizer.texts_to_sequences(X_test) "
      ],
      "execution_count": 16,
      "outputs": []
    },
    {
      "cell_type": "code",
      "metadata": {
        "colab": {
          "base_uri": "https://localhost:8080/"
        },
        "id": "QDmne_BfJhaV",
        "outputId": "5de9516f-6dab-4de9-87a9-b55abc821c11"
      },
      "source": [
        "print(X_train[:5])\n",
        "print(X_test[:3])"
      ],
      "execution_count": 17,
      "outputs": [
        {
          "output_type": "stream",
          "text": [
            "[[41, 33, 3, 59, 60, 61, 62, 1, 63, 64], [212, 138, 169, 213, 214, 215, 28, 5, 216, 139, 4], [598, 599, 600, 1, 369, 370, 371, 371, 601, 602], [372, 373, 603, 604, 605, 606, 372, 607, 295, 608], [41, 33, 3, 59, 60, 61, 62, 1, 63, 64]]\n",
            "[[294, 1095, 1096, 573, 574, 575, 1, 1097], [1098, 12, 1099, 165, 1100, 20, 54, 463], [14, 332, 187, 31, 823, 16, 1, 7, 137, 12, 346, 13, 32, 567, 66]]\n"
          ],
          "name": "stdout"
        }
      ]
    },
    {
      "cell_type": "code",
      "metadata": {
        "id": "tCxtDXfSMn4f"
      },
      "source": [
        "y_train = np.array(train_df['press'])\n",
        "y_test = np.array(test_df['press'])\n"
      ],
      "execution_count": 18,
      "outputs": []
    },
    {
      "cell_type": "code",
      "metadata": {
        "colab": {
          "base_uri": "https://localhost:8080/"
        },
        "id": "zicm9MFfPOqT",
        "outputId": "469520b8-ec3b-4bab-b3f4-ea6fdeb412fa"
      },
      "source": [
        "y_train"
      ],
      "execution_count": 19,
      "outputs": [
        {
          "output_type": "execute_result",
          "data": {
            "text/plain": [
              "array([0, 0, 1, 0, 0, 0, 0, 1, 0, 0, 1, 1, 0, 0, 1, 0, 0, 0, 1, 0, 0, 0,\n",
              "       0, 1, 0, 0, 1, 0, 0, 0, 1, 0, 0, 0, 0, 0, 1, 0, 0, 0, 1, 0, 0, 1,\n",
              "       1, 1, 0, 0, 0, 0, 1, 1, 0, 1, 0, 1, 0, 0, 0, 1, 0, 0, 0, 0, 0, 1,\n",
              "       1, 0, 1, 0, 1, 0, 1, 0, 1, 0, 0, 0, 1, 1, 1, 0, 1, 1, 0, 1, 1, 0,\n",
              "       0, 0, 1, 1, 0, 0, 1, 0, 0, 0, 1, 0, 1, 0, 0, 0, 1, 1, 0, 1, 1, 1,\n",
              "       0, 0, 1, 1, 1, 1, 0, 1, 1, 0, 0, 1, 1, 1, 0, 1, 1, 1, 0, 1, 1, 1,\n",
              "       0, 1, 1, 0, 0, 1, 1, 0, 0, 1, 1, 0, 0, 0, 1, 1, 0, 0, 1, 1, 0, 0,\n",
              "       0, 1, 0, 0, 0, 0, 0, 0, 0, 1, 0, 0, 1, 0, 0, 0, 0, 1, 0, 0, 1, 1,\n",
              "       1, 1, 0, 0, 1, 1, 0, 1, 1, 0, 1, 1, 1, 0, 1, 1, 0, 0, 0, 0, 1, 0,\n",
              "       0, 0, 1, 1, 0, 1, 0, 1, 1, 1, 0, 1, 1, 0, 0, 1, 0, 1, 0, 0, 1, 0,\n",
              "       0, 0, 1, 1, 0, 0, 0, 1, 0, 0, 0, 1, 1, 0, 1, 1, 1, 0, 0, 0, 1, 0,\n",
              "       0, 1, 1, 1, 0, 0, 1, 1, 0, 0, 0, 1, 0, 1, 1, 1, 0, 0, 0, 1, 1, 1,\n",
              "       1, 0, 1, 0, 1, 1, 1, 1, 1, 0, 0, 0, 1, 0, 0, 0, 1, 0, 0, 0, 1, 1,\n",
              "       1, 0, 1, 0, 1, 0, 1, 0, 0, 1, 1, 1, 1, 1, 0, 1, 0, 1, 0, 0, 1, 1,\n",
              "       0, 1, 0, 1, 1, 0, 0, 0, 1, 0, 0, 0, 0, 0, 0, 1, 0, 0, 0, 1, 0, 0,\n",
              "       1, 0, 0, 0, 0, 1, 0, 0, 0, 1, 1, 0], dtype=object)"
            ]
          },
          "metadata": {
            "tags": []
          },
          "execution_count": 19
        }
      ]
    },
    {
      "cell_type": "code",
      "metadata": {
        "colab": {
          "base_uri": "https://localhost:8080/"
        },
        "id": "9FJfyL83Qeni",
        "outputId": "4a7482dd-e924-4f01-ad47-e607c8847a9d"
      },
      "source": [
        "#패딩\n",
        "''' 자연어처리를 위해 사용할 모델인 LSTM에 쓸 input은 크기가 일정해야 하므로, padding으로써 초과하는 부분을 자르고 빈 부분을 채워준다.'''\n",
        "\n",
        "print('리뷰의 최대 길이 :',max(len(l) for l in X_train))\n",
        "print('리뷰의 최소 길이 :',min(len(l) for l in X_train))\n",
        "print('리뷰의 평균 길이 :',sum(map(len, X_train))/len(X_train))\n",
        "\n"
      ],
      "execution_count": 20,
      "outputs": [
        {
          "output_type": "stream",
          "text": [
            "리뷰의 최대 길이 : 19\n",
            "리뷰의 최소 길이 : 5\n",
            "리뷰의 평균 길이 : 10.818713450292398\n"
          ],
          "name": "stdout"
        }
      ]
    },
    {
      "cell_type": "code",
      "metadata": {
        "colab": {
          "base_uri": "https://localhost:8080/"
        },
        "id": "mtYexvajQes0",
        "outputId": "6dc95109-ac57-498a-dd01-4e73046a8c73"
      },
      "source": [
        "def below_threshold_len(max_len, nested_list):\n",
        "  cnt = 0\n",
        "  for s in nested_list:\n",
        "    if(len(s) <= max_len):\n",
        "        cnt = cnt + 1\n",
        "  print('전체 샘플 중 길이가 %s 이하인 샘플의 비율: %s'%(max_len, (cnt / len(nested_list))*100))\n",
        "\n",
        "max_len = 19\n",
        "below_threshold_len(max_len, X_train)"
      ],
      "execution_count": 21,
      "outputs": [
        {
          "output_type": "stream",
          "text": [
            "전체 샘플 중 길이가 19 이하인 샘플의 비율: 100.0\n"
          ],
          "name": "stdout"
        }
      ]
    },
    {
      "cell_type": "code",
      "metadata": {
        "id": "5iFZJ_STRQD6"
      },
      "source": [
        "X_train = pad_sequences(X_train, maxlen = max_len) #keras의 pad_sequences : 만약 길이가 짧을 경우 앞 부분을 0으로 채워준다.\n",
        "X_test = pad_sequences(X_test, maxlen = max_len)"
      ],
      "execution_count": 22,
      "outputs": []
    },
    {
      "cell_type": "code",
      "metadata": {
        "colab": {
          "base_uri": "https://localhost:8080/"
        },
        "id": "o2kp125iSRVN",
        "outputId": "ff60b581-92cb-46a7-a697-1a7221206604"
      },
      "source": [
        "X_train"
      ],
      "execution_count": 23,
      "outputs": [
        {
          "output_type": "execute_result",
          "data": {
            "text/plain": [
              "array([[   0,    0,    0, ...,    1,   63,   64],\n",
              "       [   0,    0,    0, ...,  216,  139,    4],\n",
              "       [   0,    0,    0, ...,  371,  601,  602],\n",
              "       ...,\n",
              "       [   0,    0,    0, ..., 1097,  143,  124],\n",
              "       [   0,    0,    0, ...,   20,   54,  463],\n",
              "       [   0,    0,    0, ...,   37,  167,  168]], dtype=int32)"
            ]
          },
          "metadata": {
            "tags": []
          },
          "execution_count": 23
        }
      ]
    },
    {
      "cell_type": "markdown",
      "metadata": {
        "id": "vaRHHxAIS2D9"
      },
      "source": [
        "# **LSTM 모델**"
      ]
    },
    {
      "cell_type": "code",
      "metadata": {
        "id": "8STtkpCoS6tq"
      },
      "source": [
        "from tensorflow.keras.layers import LSTM, Embedding, Dense\n",
        "from tensorflow.keras.models import Sequential\n",
        "from tensorflow.keras.models import load_model\n",
        "from tensorflow.keras.callbacks import EarlyStopping, ModelCheckpoint"
      ],
      "execution_count": 24,
      "outputs": []
    },
    {
      "cell_type": "code",
      "metadata": {
        "colab": {
          "base_uri": "https://localhost:8080/"
        },
        "id": "weohGemRdZnr",
        "outputId": "85feaaad-687f-4386-eb5f-f837c2aeffe8"
      },
      "source": [
        "print(len(X_train[0]))"
      ],
      "execution_count": 25,
      "outputs": [
        {
          "output_type": "stream",
          "text": [
            "19\n"
          ],
          "name": "stdout"
        }
      ]
    },
    {
      "cell_type": "code",
      "metadata": {
        "colab": {
          "base_uri": "https://localhost:8080/"
        },
        "id": "FqpWLrw9aX9T",
        "outputId": "0c875316-61af-4525-ce6a-f6364cf047d1"
      },
      "source": [
        "model1 = Sequential() #레이어를 선형으로 연결하여 구성. add로 층을 쌓음\n",
        "model1.add(Embedding(vocab_size, 19)) #사용된 단어의 수, input 하나 당 size\n",
        "model1.add(LSTM(32)) #LSTM 입력층 32개의 메모리셀을 가짐.\n",
        "model1.add(Dense(16, activation='sigmoid')) #Dense = 1차원 연산에 능한 FC(fully-connected layer) 16개의 노드가 있는 은닉층 \n",
        "# model1.add(Dense(8, activation='sigmoid'))  #8개의 노드가 있는 은닉층 #여기서는 사용 안 함.\n",
        "model1.add(Dense(1, activation='sigmoid'))  #output차원, 예측하고자 하는 target의 개수가 1이므로 1층으로 설정\n",
        "#활성화 함수는 sigmoid\n",
        "\n",
        "X_train = np.asarray(X_train).astype('float32')\n",
        "y_train = np.asarray(y_train).astype('float32')\n",
        "X_test = np.asarray(X_test).astype('float32')\n",
        "y_test = np.asarray(y_test).astype('float32')\n",
        "\n",
        "#검증데이터의 정확도 (val_acc)가 이전보다 좋아질 경우에만 모델을 저장\n",
        "mc = ModelCheckpoint('best_model1.h5', monitor='val_acc', mode='max', verbose=1, save_best_only=True)\n",
        "\n",
        "\n",
        "model1.compile(optimizer='rmsprop', loss='binary_crossentropy', metrics=['accuracy'])\n",
        "history = model1.fit(X_train, y_train, epochs=9, batch_size=10, validation_split=0.2, callbacks=[mc])\n"
      ],
      "execution_count": 26,
      "outputs": [
        {
          "output_type": "stream",
          "text": [
            "Epoch 1/9\n",
            "28/28 [==============================] - 3s 39ms/step - loss: 0.7144 - accuracy: 0.5604 - val_loss: 0.6365 - val_accuracy: 0.6087\n",
            "WARNING:tensorflow:Can save best model only with val_acc available, skipping.\n",
            "Epoch 2/9\n",
            "28/28 [==============================] - 0s 10ms/step - loss: 0.6232 - accuracy: 0.6667 - val_loss: 0.6190 - val_accuracy: 0.7971\n",
            "WARNING:tensorflow:Can save best model only with val_acc available, skipping.\n",
            "Epoch 3/9\n",
            "28/28 [==============================] - 0s 9ms/step - loss: 0.5294 - accuracy: 0.8168 - val_loss: 0.5806 - val_accuracy: 0.6667\n",
            "WARNING:tensorflow:Can save best model only with val_acc available, skipping.\n",
            "Epoch 4/9\n",
            "28/28 [==============================] - 0s 10ms/step - loss: 0.4466 - accuracy: 0.8681 - val_loss: 0.5305 - val_accuracy: 0.7971\n",
            "WARNING:tensorflow:Can save best model only with val_acc available, skipping.\n",
            "Epoch 5/9\n",
            "28/28 [==============================] - 0s 9ms/step - loss: 0.3555 - accuracy: 0.9194 - val_loss: 0.5130 - val_accuracy: 0.7826\n",
            "WARNING:tensorflow:Can save best model only with val_acc available, skipping.\n",
            "Epoch 6/9\n",
            "28/28 [==============================] - 0s 10ms/step - loss: 0.2960 - accuracy: 0.9377 - val_loss: 0.4783 - val_accuracy: 0.8551\n",
            "WARNING:tensorflow:Can save best model only with val_acc available, skipping.\n",
            "Epoch 7/9\n",
            "28/28 [==============================] - 0s 9ms/step - loss: 0.2284 - accuracy: 0.9634 - val_loss: 0.5058 - val_accuracy: 0.7826\n",
            "WARNING:tensorflow:Can save best model only with val_acc available, skipping.\n",
            "Epoch 8/9\n",
            "28/28 [==============================] - 0s 10ms/step - loss: 0.1874 - accuracy: 0.9597 - val_loss: 0.4690 - val_accuracy: 0.7971\n",
            "WARNING:tensorflow:Can save best model only with val_acc available, skipping.\n",
            "Epoch 9/9\n",
            "28/28 [==============================] - 0s 9ms/step - loss: 0.1471 - accuracy: 0.9780 - val_loss: 0.4778 - val_accuracy: 0.7971\n",
            "WARNING:tensorflow:Can save best model only with val_acc available, skipping.\n"
          ],
          "name": "stdout"
        }
      ]
    },
    {
      "cell_type": "code",
      "metadata": {
        "colab": {
          "base_uri": "https://localhost:8080/"
        },
        "id": "XwJdkOq-lL5V",
        "outputId": "5b73c38d-ef4d-4cc2-ebef-78ca8910b4f7"
      },
      "source": [
        "model2 = Sequential()\n",
        "model2.add(Embedding(vocab_size, 19)) #사용된 단어의 수, input 하나 당 size\n",
        "model2.add(LSTM(32))\n",
        "# model2.add(Dense(16, activation='sigmoid'))\n",
        "# model2.add(Dense(8, activation='sigmoid')) \n",
        "model2.add(Dense(1, activation='sigmoid')) \n",
        "#활성화 함수는 sigmoid\n",
        "\n",
        "X_train = np.asarray(X_train).astype('float32')\n",
        "y_train = np.asarray(y_train).astype('float32')\n",
        "X_test = np.asarray(X_test).astype('float32')\n",
        "y_test = np.asarray(y_test).astype('float32')\n",
        "\n",
        "\n",
        "#검증데이터의 정확도 (val_acc)가 이전보다 좋아질 경우에만 모델을 저장\n",
        "mc = ModelCheckpoint('best_model2.h5', monitor='val_acc', mode='max', verbose=1, save_best_only=True)\n",
        "\n",
        "\n",
        "model2.compile(optimizer='rmsprop', loss='binary_crossentropy', metrics=['accuracy'])\n",
        "history = model2.fit(X_train, y_train, epochs=7, batch_size=10, validation_split=0.2, callbacks=[mc])\n"
      ],
      "execution_count": 27,
      "outputs": [
        {
          "output_type": "stream",
          "text": [
            "Epoch 1/7\n",
            "28/28 [==============================] - 4s 26ms/step - loss: 0.6870 - accuracy: 0.5751 - val_loss: 0.6820 - val_accuracy: 0.6087\n",
            "WARNING:tensorflow:Can save best model only with val_acc available, skipping.\n",
            "Epoch 2/7\n",
            "28/28 [==============================] - 0s 10ms/step - loss: 0.6239 - accuracy: 0.6593 - val_loss: 0.6200 - val_accuracy: 0.6377\n",
            "WARNING:tensorflow:Can save best model only with val_acc available, skipping.\n",
            "Epoch 3/7\n",
            "28/28 [==============================] - 0s 10ms/step - loss: 0.4375 - accuracy: 0.8315 - val_loss: 0.6021 - val_accuracy: 0.6522\n",
            "WARNING:tensorflow:Can save best model only with val_acc available, skipping.\n",
            "Epoch 4/7\n",
            "28/28 [==============================] - 0s 10ms/step - loss: 0.3389 - accuracy: 0.8791 - val_loss: 0.6004 - val_accuracy: 0.5652\n",
            "WARNING:tensorflow:Can save best model only with val_acc available, skipping.\n",
            "Epoch 5/7\n",
            "28/28 [==============================] - 0s 10ms/step - loss: 0.2753 - accuracy: 0.9304 - val_loss: 0.5303 - val_accuracy: 0.7971\n",
            "WARNING:tensorflow:Can save best model only with val_acc available, skipping.\n",
            "Epoch 6/7\n",
            "28/28 [==============================] - 0s 12ms/step - loss: 0.2027 - accuracy: 0.9377 - val_loss: 0.5644 - val_accuracy: 0.6957\n",
            "WARNING:tensorflow:Can save best model only with val_acc available, skipping.\n",
            "Epoch 7/7\n",
            "28/28 [==============================] - 0s 10ms/step - loss: 0.1387 - accuracy: 0.9597 - val_loss: 0.5694 - val_accuracy: 0.7681\n",
            "WARNING:tensorflow:Can save best model only with val_acc available, skipping.\n"
          ],
          "name": "stdout"
        }
      ]
    },
    {
      "cell_type": "code",
      "metadata": {
        "colab": {
          "base_uri": "https://localhost:8080/"
        },
        "id": "xjWptvezlTKQ",
        "outputId": "34c03bbd-cd46-406e-fffb-6c4028e73932"
      },
      "source": [
        "model3 = Sequential()\n",
        "model3.add(Embedding(vocab_size, 19)) #사용된 단어의 수, input 하나 당 size\n",
        "model3.add(LSTM(32))\n",
        "# model3.add(Dense(16, activation='sigmoid'))\n",
        "# model3.add(Dense(8, activation='sigmoid')) \n",
        "model3.add(Dense(1, activation='relu')) \n",
        "\n",
        "X_train = np.asarray(X_train).astype('float32')\n",
        "y_train = np.asarray(y_train).astype('float32')\n",
        "X_test = np.asarray(X_test).astype('float32')\n",
        "y_test = np.asarray(y_test).astype('float32')\n",
        "\n",
        "#검증데이터의 정확도 (val_acc)가 이전보다 좋아질 경우에만 모델을 저장\n",
        "mc = ModelCheckpoint('best_model3.h5', monitor='val_acc', mode='max', verbose=1, save_best_only=True)\n",
        "\n",
        "\n",
        "model3.compile(optimizer='rmsprop', loss='binary_crossentropy', metrics=['accuracy'])\n",
        "history = model3.fit(X_train, y_train, epochs=6, batch_size=10, validation_split=0.2, callbacks=[mc])\n"
      ],
      "execution_count": 28,
      "outputs": [
        {
          "output_type": "stream",
          "text": [
            "Epoch 1/6\n",
            "28/28 [==============================] - 4s 51ms/step - loss: 0.9881 - accuracy: 0.5604 - val_loss: 0.6269 - val_accuracy: 0.6232\n",
            "WARNING:tensorflow:Can save best model only with val_acc available, skipping.\n",
            "Epoch 2/6\n",
            "28/28 [==============================] - 0s 10ms/step - loss: 0.5055 - accuracy: 0.7912 - val_loss: 0.5649 - val_accuracy: 0.8261\n",
            "WARNING:tensorflow:Can save best model only with val_acc available, skipping.\n",
            "Epoch 3/6\n",
            "28/28 [==============================] - 0s 9ms/step - loss: 0.3355 - accuracy: 0.8645 - val_loss: 0.5229 - val_accuracy: 0.7826\n",
            "WARNING:tensorflow:Can save best model only with val_acc available, skipping.\n",
            "Epoch 4/6\n",
            "28/28 [==============================] - 0s 12ms/step - loss: 0.2538 - accuracy: 0.9267 - val_loss: 0.5144 - val_accuracy: 0.7826\n",
            "WARNING:tensorflow:Can save best model only with val_acc available, skipping.\n",
            "Epoch 5/6\n",
            "28/28 [==============================] - 0s 9ms/step - loss: 0.1892 - accuracy: 0.9451 - val_loss: 0.7651 - val_accuracy: 0.6957\n",
            "WARNING:tensorflow:Can save best model only with val_acc available, skipping.\n",
            "Epoch 6/6\n",
            "28/28 [==============================] - 0s 9ms/step - loss: 0.0715 - accuracy: 0.9780 - val_loss: 0.5719 - val_accuracy: 0.7681\n",
            "WARNING:tensorflow:Can save best model only with val_acc available, skipping.\n"
          ],
          "name": "stdout"
        }
      ]
    },
    {
      "cell_type": "code",
      "metadata": {
        "colab": {
          "base_uri": "https://localhost:8080/"
        },
        "id": "EIrPGyqyk49s",
        "outputId": "d8c7c139-db16-4342-cce0-c6daef35ce24"
      },
      "source": [
        "model4 = Sequential()\n",
        "model4.add(Embedding(vocab_size, 19)) #사용된 단어의 수, input 하나 당 size\n",
        "model4.add(LSTM(64))\n",
        "model4.add(Dense(16, activation='sigmoid'))\n",
        "model4.add(Dense(8, activation='sigmoid')) \n",
        "model4.add(Dense(1, activation='sigmoid')) \n",
        "\n",
        "X_train = np.asarray(X_train).astype('float32')\n",
        "y_train = np.asarray(y_train).astype('float32')\n",
        "X_test = np.asarray(X_test).astype('float32')\n",
        "y_test = np.asarray(y_test).astype('float32')\n",
        "\n",
        "\n",
        "#검증데이터의 정확도 (val_acc)가 이전보다 좋아질 경우에만 모델을 저장\n",
        "mc = ModelCheckpoint('best_model4.h5', monitor='val_acc', mode='max', verbose=1, save_best_only=True)\n",
        "\n",
        "\n",
        "model4.compile(optimizer='rmsprop', loss='binary_crossentropy', metrics=['accuracy'])\n",
        "history = model4.fit(X_train, y_train, epochs=6, batch_size=10, validation_split=0.2, callbacks=[mc])\n"
      ],
      "execution_count": 29,
      "outputs": [
        {
          "output_type": "stream",
          "text": [
            "Epoch 1/6\n",
            "28/28 [==============================] - 6s 56ms/step - loss: 0.7292 - accuracy: 0.4542 - val_loss: 0.7020 - val_accuracy: 0.3913\n",
            "WARNING:tensorflow:Can save best model only with val_acc available, skipping.\n",
            "Epoch 2/6\n",
            "28/28 [==============================] - 0s 12ms/step - loss: 0.6948 - accuracy: 0.4725 - val_loss: 0.6910 - val_accuracy: 0.6087\n",
            "WARNING:tensorflow:Can save best model only with val_acc available, skipping.\n",
            "Epoch 3/6\n",
            "28/28 [==============================] - 0s 12ms/step - loss: 0.6911 - accuracy: 0.5458 - val_loss: 0.6834 - val_accuracy: 0.6087\n",
            "WARNING:tensorflow:Can save best model only with val_acc available, skipping.\n",
            "Epoch 4/6\n",
            "28/28 [==============================] - 0s 12ms/step - loss: 0.6901 - accuracy: 0.5458 - val_loss: 0.6819 - val_accuracy: 0.6087\n",
            "WARNING:tensorflow:Can save best model only with val_acc available, skipping.\n",
            "Epoch 5/6\n",
            "28/28 [==============================] - 0s 14ms/step - loss: 0.6902 - accuracy: 0.5458 - val_loss: 0.6822 - val_accuracy: 0.6087\n",
            "WARNING:tensorflow:Can save best model only with val_acc available, skipping.\n",
            "Epoch 6/6\n",
            "28/28 [==============================] - 0s 12ms/step - loss: 0.6740 - accuracy: 0.6337 - val_loss: 0.7250 - val_accuracy: 0.3913\n",
            "WARNING:tensorflow:Can save best model only with val_acc available, skipping.\n"
          ],
          "name": "stdout"
        }
      ]
    },
    {
      "cell_type": "code",
      "metadata": {
        "colab": {
          "base_uri": "https://localhost:8080/"
        },
        "id": "l9A8_aKIlvwu",
        "outputId": "cfa5d1bf-33fd-4afb-d8e8-469dad5adaaa"
      },
      "source": [
        "model5=0\n",
        "model5 = Sequential()\n",
        "model5.add(Embedding(vocab_size, 19)) #사용된 단어의 수, input 하나 당 size\n",
        "model5.add(LSTM(64))\n",
        "model5.add(Dense(32, activation='relu'))\n",
        "model5.add(Dense(16, activation='relu'))\n",
        "model5.add(Dense(8, activation='relu')) \n",
        "model5.add(Dense(1, activation='relu')) \n",
        "\n",
        "X_train = np.asarray(X_train).astype('float32')\n",
        "y_train = np.asarray(y_train).astype('float32')\n",
        "X_test = np.asarray(X_test).astype('float32')\n",
        "y_test = np.asarray(y_test).astype('float32')\n",
        "\n",
        "\n",
        "#검증데이터의 정확도 (val_acc)가 이전보다 좋아질 경우에만 모델을 저장\n",
        "mc = ModelCheckpoint('best_model5.h5', monitor='val_acc', mode='max', verbose=1, save_best_only=True)\n",
        "\n",
        "\n",
        "model5.compile(optimizer='rmsprop', loss='binary_crossentropy', metrics=['accuracy'])\n",
        "history = model5.fit(X_train, y_train, epochs=5, batch_size=10, validation_split=0.2, callbacks=[mc])\n"
      ],
      "execution_count": 30,
      "outputs": [
        {
          "output_type": "stream",
          "text": [
            "Epoch 1/5\n",
            "28/28 [==============================] - 4s 41ms/step - loss: 1.2370 - accuracy: 0.5421 - val_loss: 0.6120 - val_accuracy: 0.6667\n",
            "WARNING:tensorflow:Can save best model only with val_acc available, skipping.\n",
            "Epoch 2/5\n",
            "28/28 [==============================] - 0s 12ms/step - loss: 0.6013 - accuracy: 0.6960 - val_loss: 0.6574 - val_accuracy: 0.6087\n",
            "WARNING:tensorflow:Can save best model only with val_acc available, skipping.\n",
            "Epoch 3/5\n",
            "28/28 [==============================] - 0s 12ms/step - loss: 0.4649 - accuracy: 0.7875 - val_loss: 0.5315 - val_accuracy: 0.8261\n",
            "WARNING:tensorflow:Can save best model only with val_acc available, skipping.\n",
            "Epoch 4/5\n",
            "28/28 [==============================] - 0s 11ms/step - loss: 0.3449 - accuracy: 0.8791 - val_loss: 0.5490 - val_accuracy: 0.6522\n",
            "WARNING:tensorflow:Can save best model only with val_acc available, skipping.\n",
            "Epoch 5/5\n",
            "28/28 [==============================] - 0s 12ms/step - loss: 0.1665 - accuracy: 0.9304 - val_loss: 1.1080 - val_accuracy: 0.7101\n",
            "WARNING:tensorflow:Can save best model only with val_acc available, skipping.\n"
          ],
          "name": "stdout"
        }
      ]
    },
    {
      "cell_type": "code",
      "metadata": {
        "colab": {
          "base_uri": "https://localhost:8080/"
        },
        "id": "YTs5dB94lZMP",
        "outputId": "f4004076-8bf4-4331-cd1d-0ba662acf4e2"
      },
      "source": [
        "model6 = Sequential()\n",
        "model6.add(Embedding(vocab_size, 19)) #사용된 단어의 수, input 하나 당 size\n",
        "model6.add(LSTM(64))\n",
        "model6.add(Dense(16, activation='sigmoid'))\n",
        "model6.add(Dense(8, activation='relu')) \n",
        "model6.add(Dense(1, activation='relu')) \n",
        "\n",
        "X_train = np.asarray(X_train).astype('float32')\n",
        "y_train = np.asarray(y_train).astype('float32')\n",
        "X_test = np.asarray(X_test).astype('float32')\n",
        "y_test = np.asarray(y_test).astype('float32')\n",
        "\n",
        "\n",
        "#검증데이터의 정확도 (val_acc)가 이전보다 좋아질 경우에만 모델을 저장\n",
        "mc = ModelCheckpoint('best_model6.h5', monitor='val_acc', mode='max', verbose=1, save_best_only=True)\n",
        "\n",
        "\n",
        "model6.compile(optimizer='rmsprop', loss='binary_crossentropy', metrics=['accuracy'])\n",
        "history = model6.fit(X_train, y_train, epochs=6, batch_size=10, validation_split=0.2, callbacks=[mc])\n"
      ],
      "execution_count": 31,
      "outputs": [
        {
          "output_type": "stream",
          "text": [
            "Epoch 1/6\n",
            "28/28 [==============================] - 4s 42ms/step - loss: 7.0062 - accuracy: 0.5458 - val_loss: 6.0358 - val_accuracy: 0.6087\n",
            "WARNING:tensorflow:Can save best model only with val_acc available, skipping.\n",
            "Epoch 2/6\n",
            "28/28 [==============================] - 0s 13ms/step - loss: 7.0062 - accuracy: 0.5458 - val_loss: 6.0358 - val_accuracy: 0.6087\n",
            "WARNING:tensorflow:Can save best model only with val_acc available, skipping.\n",
            "Epoch 3/6\n",
            "28/28 [==============================] - 0s 13ms/step - loss: 7.0062 - accuracy: 0.5458 - val_loss: 6.0358 - val_accuracy: 0.6087\n",
            "WARNING:tensorflow:Can save best model only with val_acc available, skipping.\n",
            "Epoch 4/6\n",
            "28/28 [==============================] - 0s 12ms/step - loss: 7.0062 - accuracy: 0.5458 - val_loss: 6.0358 - val_accuracy: 0.6087\n",
            "WARNING:tensorflow:Can save best model only with val_acc available, skipping.\n",
            "Epoch 5/6\n",
            "28/28 [==============================] - 0s 13ms/step - loss: 7.0062 - accuracy: 0.5458 - val_loss: 6.0358 - val_accuracy: 0.6087\n",
            "WARNING:tensorflow:Can save best model only with val_acc available, skipping.\n",
            "Epoch 6/6\n",
            "28/28 [==============================] - 0s 12ms/step - loss: 7.0062 - accuracy: 0.5458 - val_loss: 6.0358 - val_accuracy: 0.6087\n",
            "WARNING:tensorflow:Can save best model only with val_acc available, skipping.\n"
          ],
          "name": "stdout"
        }
      ]
    },
    {
      "cell_type": "code",
      "metadata": {
        "colab": {
          "base_uri": "https://localhost:8080/"
        },
        "id": "BmqMHWxXljUP",
        "outputId": "90a26e50-5aeb-44d7-aba0-581dd683732b"
      },
      "source": [
        "model7 = Sequential()\n",
        "model7.add(Embedding(vocab_size, 19)) #사용된 단어의 수, input 하나 당 size\n",
        "model7.add(LSTM(64))\n",
        "model7.add(Dense(16, activation='sigmoid'))\n",
        "model7.add(Dense(8, activation='relu')) \n",
        "model7.add(Dense(1, activation='sigmoid')) \n",
        "\n",
        "X_train = np.asarray(X_train).astype('float32')\n",
        "y_train = np.asarray(y_train).astype('float32')\n",
        "X_test = np.asarray(X_test).astype('float32')\n",
        "y_test = np.asarray(y_test).astype('float32')\n",
        "\n",
        "#검증데이터의 정확도 (val_acc)가 이전보다 좋아질 경우에만 모델을 저장\n",
        "mc = ModelCheckpoint('best_model7.h5', monitor='val_acc', mode='max', verbose=1, save_best_only=True)\n",
        "\n",
        "\n",
        "model7.compile(optimizer='rmsprop', loss='binary_crossentropy', metrics=['accuracy'])\n",
        "history = model7.fit(X_train, y_train, epochs=6, batch_size=10, validation_split=0.2, callbacks=[mc])\n"
      ],
      "execution_count": 32,
      "outputs": [
        {
          "output_type": "stream",
          "text": [
            "Epoch 1/6\n",
            "28/28 [==============================] - 6s 71ms/step - loss: 0.7116 - accuracy: 0.4542 - val_loss: 0.7052 - val_accuracy: 0.3913\n",
            "WARNING:tensorflow:Can save best model only with val_acc available, skipping.\n",
            "Epoch 2/6\n",
            "28/28 [==============================] - 0s 12ms/step - loss: 0.6861 - accuracy: 0.4542 - val_loss: 0.6973 - val_accuracy: 0.3913\n",
            "WARNING:tensorflow:Can save best model only with val_acc available, skipping.\n",
            "Epoch 3/6\n",
            "28/28 [==============================] - 0s 12ms/step - loss: 0.6444 - accuracy: 0.4689 - val_loss: 0.6851 - val_accuracy: 0.4493\n",
            "WARNING:tensorflow:Can save best model only with val_acc available, skipping.\n",
            "Epoch 4/6\n",
            "28/28 [==============================] - 0s 12ms/step - loss: 0.5148 - accuracy: 0.8535 - val_loss: 0.5777 - val_accuracy: 0.6957\n",
            "WARNING:tensorflow:Can save best model only with val_acc available, skipping.\n",
            "Epoch 5/6\n",
            "28/28 [==============================] - 0s 13ms/step - loss: 0.3625 - accuracy: 0.9194 - val_loss: 0.5550 - val_accuracy: 0.6957\n",
            "WARNING:tensorflow:Can save best model only with val_acc available, skipping.\n",
            "Epoch 6/6\n",
            "28/28 [==============================] - 0s 11ms/step - loss: 0.2487 - accuracy: 0.9414 - val_loss: 0.5377 - val_accuracy: 0.6957\n",
            "WARNING:tensorflow:Can save best model only with val_acc available, skipping.\n"
          ],
          "name": "stdout"
        }
      ]
    },
    {
      "cell_type": "code",
      "metadata": {
        "colab": {
          "base_uri": "https://localhost:8080/"
        },
        "id": "IZhZWyKjl90l",
        "outputId": "ef65be99-621e-4ff9-e7a7-560a1bb44a0c"
      },
      "source": [
        "model8 = Sequential()\n",
        "model8.add(Embedding(vocab_size, 19)) #사용된 단어의 수, input 하나 당 size\n",
        "model8.add(LSTM(64))\n",
        "model8.add(Dense(16, activation='sigmoid'))\n",
        "model8.add(Dense(8, activation='relu')) \n",
        "model8.add(Dense(1, activation='relu')) \n",
        "\n",
        "X_train = np.asarray(X_train).astype('float32')\n",
        "y_train = np.asarray(y_train).astype('float32')\n",
        "X_test = np.asarray(X_test).astype('float32')\n",
        "y_test = np.asarray(y_test).astype('float32')\n",
        "\n",
        "\n",
        "#검증데이터의 정확도 (val_acc)가 이전보다 좋아질 경우에만 모델을 저장\n",
        "mc = ModelCheckpoint('best_model8.h5', monitor='val_acc', mode='max', verbose=1, save_best_only=True)\n",
        "\n",
        "\n",
        "model8.compile(optimizer='rmsprop', loss='binary_crossentropy', metrics=['accuracy'])\n",
        "history = model8.fit(X_train, y_train, epochs=5, batch_size=10, validation_split=0.2, callbacks=[mc])\n"
      ],
      "execution_count": 33,
      "outputs": [
        {
          "output_type": "stream",
          "text": [
            "Epoch 1/5\n",
            "28/28 [==============================] - 5s 43ms/step - loss: 0.6799 - accuracy: 0.5568 - val_loss: 0.7361 - val_accuracy: 0.3913\n",
            "WARNING:tensorflow:Can save best model only with val_acc available, skipping.\n",
            "Epoch 2/5\n",
            "28/28 [==============================] - 0s 11ms/step - loss: 0.6168 - accuracy: 0.7692 - val_loss: 0.6327 - val_accuracy: 0.7971\n",
            "WARNING:tensorflow:Can save best model only with val_acc available, skipping.\n",
            "Epoch 3/5\n",
            "28/28 [==============================] - 0s 12ms/step - loss: 0.4528 - accuracy: 0.8278 - val_loss: 0.5718 - val_accuracy: 0.7246\n",
            "WARNING:tensorflow:Can save best model only with val_acc available, skipping.\n",
            "Epoch 4/5\n",
            "28/28 [==============================] - 0s 11ms/step - loss: 0.3761 - accuracy: 0.8718 - val_loss: 0.6119 - val_accuracy: 0.6377\n",
            "WARNING:tensorflow:Can save best model only with val_acc available, skipping.\n",
            "Epoch 5/5\n",
            "28/28 [==============================] - 0s 13ms/step - loss: 0.2013 - accuracy: 0.9194 - val_loss: 0.8651 - val_accuracy: 0.5652\n",
            "WARNING:tensorflow:Can save best model only with val_acc available, skipping.\n"
          ],
          "name": "stdout"
        }
      ]
    },
    {
      "cell_type": "code",
      "metadata": {
        "colab": {
          "base_uri": "https://localhost:8080/"
        },
        "id": "RojKJhwCmN8a",
        "outputId": "3a9aee94-df9e-45c7-b7e3-6b83b2c8a3c3"
      },
      "source": [
        "model9 = 0\n",
        "model9 = Sequential()\n",
        "model9.add(Embedding(vocab_size, 19)) #사용된 단어의 수, input 하나 당 size\n",
        "model9.add(LSTM(32))\n",
        "model9.add(Dense(16, activation='sigmoid'))\n",
        "model9.add(Dense(8, activation='relu')) \n",
        "model9.add(Dense(1, activation='relu')) \n",
        "\n",
        "X_train = np.asarray(X_train).astype('float32')\n",
        "y_train = np.asarray(y_train).astype('float32')\n",
        "X_test = np.asarray(X_test).astype('float32')\n",
        "y_test = np.asarray(y_test).astype('float32')\n",
        "\n",
        "#검증데이터의 정확도 (val_acc)가 이전보다 좋아질 경우에만 모델을 저장\n",
        "mc = ModelCheckpoint('best_model9.h5', monitor='val_acc', mode='max', verbose=1, save_best_only=True)\n",
        "\n",
        "\n",
        "model9.compile(optimizer='rmsprop', loss='binary_crossentropy', metrics=['accuracy'])\n",
        "history = model9.fit(X_train, y_train, epochs=4, batch_size=10, validation_split=0.2, callbacks=[mc])\n"
      ],
      "execution_count": 34,
      "outputs": [
        {
          "output_type": "stream",
          "text": [
            "Epoch 1/4\n",
            "28/28 [==============================] - 4s 27ms/step - loss: 7.0062 - accuracy: 0.5458 - val_loss: 6.0358 - val_accuracy: 0.6087\n",
            "WARNING:tensorflow:Can save best model only with val_acc available, skipping.\n",
            "Epoch 2/4\n",
            "28/28 [==============================] - 0s 10ms/step - loss: 7.0062 - accuracy: 0.5458 - val_loss: 6.0358 - val_accuracy: 0.6087\n",
            "WARNING:tensorflow:Can save best model only with val_acc available, skipping.\n",
            "Epoch 3/4\n",
            "28/28 [==============================] - 0s 10ms/step - loss: 7.0062 - accuracy: 0.5458 - val_loss: 6.0358 - val_accuracy: 0.6087\n",
            "WARNING:tensorflow:Can save best model only with val_acc available, skipping.\n",
            "Epoch 4/4\n",
            "28/28 [==============================] - 0s 10ms/step - loss: 7.0062 - accuracy: 0.5458 - val_loss: 6.0358 - val_accuracy: 0.6087\n",
            "WARNING:tensorflow:Can save best model only with val_acc available, skipping.\n"
          ],
          "name": "stdout"
        }
      ]
    },
    {
      "cell_type": "code",
      "metadata": {
        "id": "gCizRkEJtWEX"
      },
      "source": [
        ""
      ],
      "execution_count": 34,
      "outputs": []
    }
  ]
}